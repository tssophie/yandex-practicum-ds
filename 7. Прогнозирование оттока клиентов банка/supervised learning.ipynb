{
 "cells": [
  {
   "cell_type": "markdown",
   "metadata": {},
   "source": [
    "# Отток клиентов"
   ]
  },
  {
   "cell_type": "markdown",
   "metadata": {},
   "source": [
    "## 1. Получение данных"
   ]
  },
  {
   "cell_type": "markdown",
   "metadata": {},
   "source": [
    "Импорт библиотек."
   ]
  },
  {
   "cell_type": "code",
   "execution_count": 1,
   "metadata": {},
   "outputs": [],
   "source": [
    "import pandas as pd\n",
    "import re\n",
    "import matplotlib.pyplot as plt\n",
    "import seaborn as sns\n",
    "sns.set_style(\"darkgrid\")\n",
    "\n",
    "from sklearn.tree import DecisionTreeClassifier\n",
    "from sklearn.ensemble import RandomForestClassifier\n",
    "from sklearn.linear_model import LogisticRegression\n",
    "from sklearn.preprocessing import StandardScaler\n",
    "from sklearn.model_selection import train_test_split \n",
    "from sklearn.metrics import (\n",
    "    f1_score,\n",
    "    roc_auc_score,\n",
    "    roc_curve,\n",
    "    recall_score\n",
    ")\n",
    "from sklearn.utils import shuffle"
   ]
  },
  {
   "cell_type": "markdown",
   "metadata": {},
   "source": [
    "Откроем файл `Churn.csv`, сохраним его в переменной `df` и посмотрим первые 5 строк таблицы."
   ]
  },
  {
   "cell_type": "code",
   "execution_count": 2,
   "metadata": {},
   "outputs": [
    {
     "data": {
      "text/html": [
       "<div>\n",
       "<style scoped>\n",
       "    .dataframe tbody tr th:only-of-type {\n",
       "        vertical-align: middle;\n",
       "    }\n",
       "\n",
       "    .dataframe tbody tr th {\n",
       "        vertical-align: top;\n",
       "    }\n",
       "\n",
       "    .dataframe thead th {\n",
       "        text-align: right;\n",
       "    }\n",
       "</style>\n",
       "<table border=\"1\" class=\"dataframe\">\n",
       "  <thead>\n",
       "    <tr style=\"text-align: right;\">\n",
       "      <th></th>\n",
       "      <th>RowNumber</th>\n",
       "      <th>CustomerId</th>\n",
       "      <th>Surname</th>\n",
       "      <th>CreditScore</th>\n",
       "      <th>Geography</th>\n",
       "      <th>Gender</th>\n",
       "      <th>Age</th>\n",
       "      <th>Tenure</th>\n",
       "      <th>Balance</th>\n",
       "      <th>NumOfProducts</th>\n",
       "      <th>HasCrCard</th>\n",
       "      <th>IsActiveMember</th>\n",
       "      <th>EstimatedSalary</th>\n",
       "      <th>Exited</th>\n",
       "    </tr>\n",
       "  </thead>\n",
       "  <tbody>\n",
       "    <tr>\n",
       "      <th>0</th>\n",
       "      <td>1</td>\n",
       "      <td>15634602</td>\n",
       "      <td>Hargrave</td>\n",
       "      <td>619</td>\n",
       "      <td>France</td>\n",
       "      <td>Female</td>\n",
       "      <td>42</td>\n",
       "      <td>2.0</td>\n",
       "      <td>0.00</td>\n",
       "      <td>1</td>\n",
       "      <td>1</td>\n",
       "      <td>1</td>\n",
       "      <td>101348.88</td>\n",
       "      <td>1</td>\n",
       "    </tr>\n",
       "    <tr>\n",
       "      <th>1</th>\n",
       "      <td>2</td>\n",
       "      <td>15647311</td>\n",
       "      <td>Hill</td>\n",
       "      <td>608</td>\n",
       "      <td>Spain</td>\n",
       "      <td>Female</td>\n",
       "      <td>41</td>\n",
       "      <td>1.0</td>\n",
       "      <td>83807.86</td>\n",
       "      <td>1</td>\n",
       "      <td>0</td>\n",
       "      <td>1</td>\n",
       "      <td>112542.58</td>\n",
       "      <td>0</td>\n",
       "    </tr>\n",
       "    <tr>\n",
       "      <th>2</th>\n",
       "      <td>3</td>\n",
       "      <td>15619304</td>\n",
       "      <td>Onio</td>\n",
       "      <td>502</td>\n",
       "      <td>France</td>\n",
       "      <td>Female</td>\n",
       "      <td>42</td>\n",
       "      <td>8.0</td>\n",
       "      <td>159660.80</td>\n",
       "      <td>3</td>\n",
       "      <td>1</td>\n",
       "      <td>0</td>\n",
       "      <td>113931.57</td>\n",
       "      <td>1</td>\n",
       "    </tr>\n",
       "    <tr>\n",
       "      <th>3</th>\n",
       "      <td>4</td>\n",
       "      <td>15701354</td>\n",
       "      <td>Boni</td>\n",
       "      <td>699</td>\n",
       "      <td>France</td>\n",
       "      <td>Female</td>\n",
       "      <td>39</td>\n",
       "      <td>1.0</td>\n",
       "      <td>0.00</td>\n",
       "      <td>2</td>\n",
       "      <td>0</td>\n",
       "      <td>0</td>\n",
       "      <td>93826.63</td>\n",
       "      <td>0</td>\n",
       "    </tr>\n",
       "    <tr>\n",
       "      <th>4</th>\n",
       "      <td>5</td>\n",
       "      <td>15737888</td>\n",
       "      <td>Mitchell</td>\n",
       "      <td>850</td>\n",
       "      <td>Spain</td>\n",
       "      <td>Female</td>\n",
       "      <td>43</td>\n",
       "      <td>2.0</td>\n",
       "      <td>125510.82</td>\n",
       "      <td>1</td>\n",
       "      <td>1</td>\n",
       "      <td>1</td>\n",
       "      <td>79084.10</td>\n",
       "      <td>0</td>\n",
       "    </tr>\n",
       "  </tbody>\n",
       "</table>\n",
       "</div>"
      ],
      "text/plain": [
       "   RowNumber  CustomerId   Surname  CreditScore Geography  Gender  Age  \\\n",
       "0          1    15634602  Hargrave          619    France  Female   42   \n",
       "1          2    15647311      Hill          608     Spain  Female   41   \n",
       "2          3    15619304      Onio          502    France  Female   42   \n",
       "3          4    15701354      Boni          699    France  Female   39   \n",
       "4          5    15737888  Mitchell          850     Spain  Female   43   \n",
       "\n",
       "   Tenure    Balance  NumOfProducts  HasCrCard  IsActiveMember  \\\n",
       "0     2.0       0.00              1          1               1   \n",
       "1     1.0   83807.86              1          0               1   \n",
       "2     8.0  159660.80              3          1               0   \n",
       "3     1.0       0.00              2          0               0   \n",
       "4     2.0  125510.82              1          1               1   \n",
       "\n",
       "   EstimatedSalary  Exited  \n",
       "0        101348.88       1  \n",
       "1        112542.58       0  \n",
       "2        113931.57       1  \n",
       "3         93826.63       0  \n",
       "4         79084.10       0  "
      ]
     },
     "execution_count": 2,
     "metadata": {},
     "output_type": "execute_result"
    }
   ],
   "source": [
    "df = pd.read_csv('Churn.csv')\n",
    "\n",
    "df.head()"
   ]
  },
  {
   "cell_type": "markdown",
   "metadata": {},
   "source": [
    "Посмотрим общую информацию о данных таблицы `df`."
   ]
  },
  {
   "cell_type": "code",
   "execution_count": 3,
   "metadata": {},
   "outputs": [
    {
     "name": "stdout",
     "output_type": "stream",
     "text": [
      "<class 'pandas.core.frame.DataFrame'>\n",
      "RangeIndex: 10000 entries, 0 to 9999\n",
      "Data columns (total 14 columns):\n",
      " #   Column           Non-Null Count  Dtype  \n",
      "---  ------           --------------  -----  \n",
      " 0   RowNumber        10000 non-null  int64  \n",
      " 1   CustomerId       10000 non-null  int64  \n",
      " 2   Surname          10000 non-null  object \n",
      " 3   CreditScore      10000 non-null  int64  \n",
      " 4   Geography        10000 non-null  object \n",
      " 5   Gender           10000 non-null  object \n",
      " 6   Age              10000 non-null  int64  \n",
      " 7   Tenure           9091 non-null   float64\n",
      " 8   Balance          10000 non-null  float64\n",
      " 9   NumOfProducts    10000 non-null  int64  \n",
      " 10  HasCrCard        10000 non-null  int64  \n",
      " 11  IsActiveMember   10000 non-null  int64  \n",
      " 12  EstimatedSalary  10000 non-null  float64\n",
      " 13  Exited           10000 non-null  int64  \n",
      "dtypes: float64(3), int64(8), object(3)\n",
      "memory usage: 1.1+ MB\n"
     ]
    }
   ],
   "source": [
    "df.info()"
   ]
  },
  {
   "cell_type": "markdown",
   "metadata": {},
   "source": [
    "Всего в таблице 14 столбцов.\n",
    "Разберём, какие в `df` столбцы и какую информацию они содержат:\n",
    "\n",
    "**Признаки:**\n",
    "- `RowNumber` — индекс строки в данных\n",
    "- `CustomerId` — уникальный идентификатор клиента\n",
    "- `Surname` — фамилия\n",
    "- `CreditScore` — кредитный рейтинг\n",
    "- `Geography` — страна проживания\n",
    "- `Gender` — пол\n",
    "- `Age` — возраст\n",
    "- `Tenure` — сколько лет человек является клиентом банка\n",
    "- `Balance` — баланс на счёте\n",
    "- `NumOfProducts` — количество продуктов банка, используемых клиентом\n",
    "- `HasCrCard` — наличие кредитной карты\n",
    "- `IsActiveMember` — активность клиента\n",
    "- `EstimatedSalary` — предполагаемая зарплата\n",
    "\n",
    "**Целевой признак:**\n",
    "- `Exited` — факт ухода клиента"
   ]
  },
  {
   "cell_type": "markdown",
   "metadata": {},
   "source": [
    "Посмотрим общую информацию о датафрейме."
   ]
  },
  {
   "cell_type": "code",
   "execution_count": 4,
   "metadata": {
    "scrolled": false
   },
   "outputs": [
    {
     "data": {
      "text/html": [
       "<div>\n",
       "<style scoped>\n",
       "    .dataframe tbody tr th:only-of-type {\n",
       "        vertical-align: middle;\n",
       "    }\n",
       "\n",
       "    .dataframe tbody tr th {\n",
       "        vertical-align: top;\n",
       "    }\n",
       "\n",
       "    .dataframe thead th {\n",
       "        text-align: right;\n",
       "    }\n",
       "</style>\n",
       "<table border=\"1\" class=\"dataframe\">\n",
       "  <thead>\n",
       "    <tr style=\"text-align: right;\">\n",
       "      <th></th>\n",
       "      <th>count</th>\n",
       "      <th>unique</th>\n",
       "      <th>top</th>\n",
       "      <th>freq</th>\n",
       "      <th>mean</th>\n",
       "      <th>std</th>\n",
       "      <th>min</th>\n",
       "      <th>25%</th>\n",
       "      <th>50%</th>\n",
       "      <th>75%</th>\n",
       "      <th>max</th>\n",
       "    </tr>\n",
       "  </thead>\n",
       "  <tbody>\n",
       "    <tr>\n",
       "      <th>RowNumber</th>\n",
       "      <td>10000.0</td>\n",
       "      <td>NaN</td>\n",
       "      <td>NaN</td>\n",
       "      <td>NaN</td>\n",
       "      <td>5000.5</td>\n",
       "      <td>2886.89568</td>\n",
       "      <td>1.0</td>\n",
       "      <td>2500.75</td>\n",
       "      <td>5000.5</td>\n",
       "      <td>7500.25</td>\n",
       "      <td>10000.0</td>\n",
       "    </tr>\n",
       "    <tr>\n",
       "      <th>CustomerId</th>\n",
       "      <td>10000.0</td>\n",
       "      <td>NaN</td>\n",
       "      <td>NaN</td>\n",
       "      <td>NaN</td>\n",
       "      <td>15690940.5694</td>\n",
       "      <td>71936.186123</td>\n",
       "      <td>15565701.0</td>\n",
       "      <td>15628528.25</td>\n",
       "      <td>15690738.0</td>\n",
       "      <td>15753233.75</td>\n",
       "      <td>15815690.0</td>\n",
       "    </tr>\n",
       "    <tr>\n",
       "      <th>Surname</th>\n",
       "      <td>10000</td>\n",
       "      <td>2932</td>\n",
       "      <td>Smith</td>\n",
       "      <td>32</td>\n",
       "      <td>NaN</td>\n",
       "      <td>NaN</td>\n",
       "      <td>NaN</td>\n",
       "      <td>NaN</td>\n",
       "      <td>NaN</td>\n",
       "      <td>NaN</td>\n",
       "      <td>NaN</td>\n",
       "    </tr>\n",
       "    <tr>\n",
       "      <th>CreditScore</th>\n",
       "      <td>10000.0</td>\n",
       "      <td>NaN</td>\n",
       "      <td>NaN</td>\n",
       "      <td>NaN</td>\n",
       "      <td>650.5288</td>\n",
       "      <td>96.653299</td>\n",
       "      <td>350.0</td>\n",
       "      <td>584.0</td>\n",
       "      <td>652.0</td>\n",
       "      <td>718.0</td>\n",
       "      <td>850.0</td>\n",
       "    </tr>\n",
       "    <tr>\n",
       "      <th>Geography</th>\n",
       "      <td>10000</td>\n",
       "      <td>3</td>\n",
       "      <td>France</td>\n",
       "      <td>5014</td>\n",
       "      <td>NaN</td>\n",
       "      <td>NaN</td>\n",
       "      <td>NaN</td>\n",
       "      <td>NaN</td>\n",
       "      <td>NaN</td>\n",
       "      <td>NaN</td>\n",
       "      <td>NaN</td>\n",
       "    </tr>\n",
       "    <tr>\n",
       "      <th>Gender</th>\n",
       "      <td>10000</td>\n",
       "      <td>2</td>\n",
       "      <td>Male</td>\n",
       "      <td>5457</td>\n",
       "      <td>NaN</td>\n",
       "      <td>NaN</td>\n",
       "      <td>NaN</td>\n",
       "      <td>NaN</td>\n",
       "      <td>NaN</td>\n",
       "      <td>NaN</td>\n",
       "      <td>NaN</td>\n",
       "    </tr>\n",
       "    <tr>\n",
       "      <th>Age</th>\n",
       "      <td>10000.0</td>\n",
       "      <td>NaN</td>\n",
       "      <td>NaN</td>\n",
       "      <td>NaN</td>\n",
       "      <td>38.9218</td>\n",
       "      <td>10.487806</td>\n",
       "      <td>18.0</td>\n",
       "      <td>32.0</td>\n",
       "      <td>37.0</td>\n",
       "      <td>44.0</td>\n",
       "      <td>92.0</td>\n",
       "    </tr>\n",
       "    <tr>\n",
       "      <th>Tenure</th>\n",
       "      <td>9091.0</td>\n",
       "      <td>NaN</td>\n",
       "      <td>NaN</td>\n",
       "      <td>NaN</td>\n",
       "      <td>4.99769</td>\n",
       "      <td>2.894723</td>\n",
       "      <td>0.0</td>\n",
       "      <td>2.0</td>\n",
       "      <td>5.0</td>\n",
       "      <td>7.0</td>\n",
       "      <td>10.0</td>\n",
       "    </tr>\n",
       "    <tr>\n",
       "      <th>Balance</th>\n",
       "      <td>10000.0</td>\n",
       "      <td>NaN</td>\n",
       "      <td>NaN</td>\n",
       "      <td>NaN</td>\n",
       "      <td>76485.889288</td>\n",
       "      <td>62397.405202</td>\n",
       "      <td>0.0</td>\n",
       "      <td>0.0</td>\n",
       "      <td>97198.54</td>\n",
       "      <td>127644.24</td>\n",
       "      <td>250898.09</td>\n",
       "    </tr>\n",
       "    <tr>\n",
       "      <th>NumOfProducts</th>\n",
       "      <td>10000.0</td>\n",
       "      <td>NaN</td>\n",
       "      <td>NaN</td>\n",
       "      <td>NaN</td>\n",
       "      <td>1.5302</td>\n",
       "      <td>0.581654</td>\n",
       "      <td>1.0</td>\n",
       "      <td>1.0</td>\n",
       "      <td>1.0</td>\n",
       "      <td>2.0</td>\n",
       "      <td>4.0</td>\n",
       "    </tr>\n",
       "    <tr>\n",
       "      <th>HasCrCard</th>\n",
       "      <td>10000.0</td>\n",
       "      <td>NaN</td>\n",
       "      <td>NaN</td>\n",
       "      <td>NaN</td>\n",
       "      <td>0.7055</td>\n",
       "      <td>0.45584</td>\n",
       "      <td>0.0</td>\n",
       "      <td>0.0</td>\n",
       "      <td>1.0</td>\n",
       "      <td>1.0</td>\n",
       "      <td>1.0</td>\n",
       "    </tr>\n",
       "    <tr>\n",
       "      <th>IsActiveMember</th>\n",
       "      <td>10000.0</td>\n",
       "      <td>NaN</td>\n",
       "      <td>NaN</td>\n",
       "      <td>NaN</td>\n",
       "      <td>0.5151</td>\n",
       "      <td>0.499797</td>\n",
       "      <td>0.0</td>\n",
       "      <td>0.0</td>\n",
       "      <td>1.0</td>\n",
       "      <td>1.0</td>\n",
       "      <td>1.0</td>\n",
       "    </tr>\n",
       "    <tr>\n",
       "      <th>EstimatedSalary</th>\n",
       "      <td>10000.0</td>\n",
       "      <td>NaN</td>\n",
       "      <td>NaN</td>\n",
       "      <td>NaN</td>\n",
       "      <td>100090.239881</td>\n",
       "      <td>57510.492818</td>\n",
       "      <td>11.58</td>\n",
       "      <td>51002.11</td>\n",
       "      <td>100193.915</td>\n",
       "      <td>149388.2475</td>\n",
       "      <td>199992.48</td>\n",
       "    </tr>\n",
       "    <tr>\n",
       "      <th>Exited</th>\n",
       "      <td>10000.0</td>\n",
       "      <td>NaN</td>\n",
       "      <td>NaN</td>\n",
       "      <td>NaN</td>\n",
       "      <td>0.2037</td>\n",
       "      <td>0.402769</td>\n",
       "      <td>0.0</td>\n",
       "      <td>0.0</td>\n",
       "      <td>0.0</td>\n",
       "      <td>0.0</td>\n",
       "      <td>1.0</td>\n",
       "    </tr>\n",
       "  </tbody>\n",
       "</table>\n",
       "</div>"
      ],
      "text/plain": [
       "                   count unique     top  freq           mean           std  \\\n",
       "RowNumber        10000.0    NaN     NaN   NaN         5000.5    2886.89568   \n",
       "CustomerId       10000.0    NaN     NaN   NaN  15690940.5694  71936.186123   \n",
       "Surname            10000   2932   Smith    32            NaN           NaN   \n",
       "CreditScore      10000.0    NaN     NaN   NaN       650.5288     96.653299   \n",
       "Geography          10000      3  France  5014            NaN           NaN   \n",
       "Gender             10000      2    Male  5457            NaN           NaN   \n",
       "Age              10000.0    NaN     NaN   NaN        38.9218     10.487806   \n",
       "Tenure            9091.0    NaN     NaN   NaN        4.99769      2.894723   \n",
       "Balance          10000.0    NaN     NaN   NaN   76485.889288  62397.405202   \n",
       "NumOfProducts    10000.0    NaN     NaN   NaN         1.5302      0.581654   \n",
       "HasCrCard        10000.0    NaN     NaN   NaN         0.7055       0.45584   \n",
       "IsActiveMember   10000.0    NaN     NaN   NaN         0.5151      0.499797   \n",
       "EstimatedSalary  10000.0    NaN     NaN   NaN  100090.239881  57510.492818   \n",
       "Exited           10000.0    NaN     NaN   NaN         0.2037      0.402769   \n",
       "\n",
       "                        min          25%         50%          75%         max  \n",
       "RowNumber               1.0      2500.75      5000.5      7500.25     10000.0  \n",
       "CustomerId       15565701.0  15628528.25  15690738.0  15753233.75  15815690.0  \n",
       "Surname                 NaN          NaN         NaN          NaN         NaN  \n",
       "CreditScore           350.0        584.0       652.0        718.0       850.0  \n",
       "Geography               NaN          NaN         NaN          NaN         NaN  \n",
       "Gender                  NaN          NaN         NaN          NaN         NaN  \n",
       "Age                    18.0         32.0        37.0         44.0        92.0  \n",
       "Tenure                  0.0          2.0         5.0          7.0        10.0  \n",
       "Balance                 0.0          0.0    97198.54    127644.24   250898.09  \n",
       "NumOfProducts           1.0          1.0         1.0          2.0         4.0  \n",
       "HasCrCard               0.0          0.0         1.0          1.0         1.0  \n",
       "IsActiveMember          0.0          0.0         1.0          1.0         1.0  \n",
       "EstimatedSalary       11.58     51002.11  100193.915  149388.2475   199992.48  \n",
       "Exited                  0.0          0.0         0.0          0.0         1.0  "
      ]
     },
     "execution_count": 4,
     "metadata": {},
     "output_type": "execute_result"
    }
   ],
   "source": [
    "df.describe(include='all').T"
   ]
  },
  {
   "cell_type": "markdown",
   "metadata": {},
   "source": [
    "Проверим, есть ли в данных полные дубликаты."
   ]
  },
  {
   "cell_type": "code",
   "execution_count": 5,
   "metadata": {},
   "outputs": [
    {
     "data": {
      "text/plain": [
       "0"
      ]
     },
     "execution_count": 5,
     "metadata": {},
     "output_type": "execute_result"
    }
   ],
   "source": [
    "df.duplicated().sum()"
   ]
  },
  {
   "cell_type": "markdown",
   "metadata": {},
   "source": [
    "Полные дубликаты отсутствуют."
   ]
  },
  {
   "cell_type": "markdown",
   "metadata": {},
   "source": [
    "Построим гистограммы и посмотрим на распределение данных."
   ]
  },
  {
   "cell_type": "code",
   "execution_count": 6,
   "metadata": {},
   "outputs": [
    {
     "data": {
      "image/png": "[encoded data removed]",
      "text/plain": [
       "<Figure size 1500x1500 with 12 Axes>"
      ]
     },
     "metadata": {},
     "output_type": "display_data"
    }
   ],
   "source": [
    "df.hist(figsize=(15, 15));"
   ]
  },
  {
   "cell_type": "markdown",
   "metadata": {},
   "source": [
    "Посмотрим, присутствует ли в данных мультиколлинеарность."
   ]
  },
  {
   "cell_type": "code",
   "execution_count": 7,
   "metadata": {},
   "outputs": [
    {
     "data": {
      "text/html": [
       "<div>\n",
       "<style scoped>\n",
       "    .dataframe tbody tr th:only-of-type {\n",
       "        vertical-align: middle;\n",
       "    }\n",
       "\n",
       "    .dataframe tbody tr th {\n",
       "        vertical-align: top;\n",
       "    }\n",
       "\n",
       "    .dataframe thead th {\n",
       "        text-align: right;\n",
       "    }\n",
       "</style>\n",
       "<table border=\"1\" class=\"dataframe\">\n",
       "  <thead>\n",
       "    <tr style=\"text-align: right;\">\n",
       "      <th></th>\n",
       "      <th>RowNumber</th>\n",
       "      <th>CustomerId</th>\n",
       "      <th>CreditScore</th>\n",
       "      <th>Age</th>\n",
       "      <th>Tenure</th>\n",
       "      <th>Balance</th>\n",
       "      <th>NumOfProducts</th>\n",
       "      <th>HasCrCard</th>\n",
       "      <th>IsActiveMember</th>\n",
       "      <th>EstimatedSalary</th>\n",
       "      <th>Exited</th>\n",
       "    </tr>\n",
       "  </thead>\n",
       "  <tbody>\n",
       "    <tr>\n",
       "      <th>RowNumber</th>\n",
       "      <td>1.000000</td>\n",
       "      <td>0.004187</td>\n",
       "      <td>0.005130</td>\n",
       "      <td>0.000476</td>\n",
       "      <td>-0.007650</td>\n",
       "      <td>-0.009013</td>\n",
       "      <td>0.008305</td>\n",
       "      <td>0.000599</td>\n",
       "      <td>0.012044</td>\n",
       "      <td>-0.006007</td>\n",
       "      <td>-0.016571</td>\n",
       "    </tr>\n",
       "    <tr>\n",
       "      <th>CustomerId</th>\n",
       "      <td>0.004187</td>\n",
       "      <td>1.000000</td>\n",
       "      <td>0.005967</td>\n",
       "      <td>0.008775</td>\n",
       "      <td>-0.021410</td>\n",
       "      <td>-0.013932</td>\n",
       "      <td>0.019297</td>\n",
       "      <td>-0.014023</td>\n",
       "      <td>0.001682</td>\n",
       "      <td>0.015246</td>\n",
       "      <td>-0.006264</td>\n",
       "    </tr>\n",
       "    <tr>\n",
       "      <th>CreditScore</th>\n",
       "      <td>0.005130</td>\n",
       "      <td>0.005967</td>\n",
       "      <td>1.000000</td>\n",
       "      <td>-0.007974</td>\n",
       "      <td>0.000604</td>\n",
       "      <td>0.005687</td>\n",
       "      <td>0.012568</td>\n",
       "      <td>-0.003802</td>\n",
       "      <td>0.024262</td>\n",
       "      <td>0.001237</td>\n",
       "      <td>-0.023289</td>\n",
       "    </tr>\n",
       "    <tr>\n",
       "      <th>Age</th>\n",
       "      <td>0.000476</td>\n",
       "      <td>0.008775</td>\n",
       "      <td>-0.007974</td>\n",
       "      <td>1.000000</td>\n",
       "      <td>-0.014275</td>\n",
       "      <td>0.033304</td>\n",
       "      <td>-0.058566</td>\n",
       "      <td>-0.015278</td>\n",
       "      <td>0.039839</td>\n",
       "      <td>-0.002431</td>\n",
       "      <td>0.323968</td>\n",
       "    </tr>\n",
       "    <tr>\n",
       "      <th>Tenure</th>\n",
       "      <td>-0.007650</td>\n",
       "      <td>-0.021410</td>\n",
       "      <td>0.000604</td>\n",
       "      <td>-0.014275</td>\n",
       "      <td>1.000000</td>\n",
       "      <td>-0.005252</td>\n",
       "      <td>0.011453</td>\n",
       "      <td>0.027293</td>\n",
       "      <td>-0.032596</td>\n",
       "      <td>0.010343</td>\n",
       "      <td>-0.016762</td>\n",
       "    </tr>\n",
       "    <tr>\n",
       "      <th>Balance</th>\n",
       "      <td>-0.009013</td>\n",
       "      <td>-0.013932</td>\n",
       "      <td>0.005687</td>\n",
       "      <td>0.033304</td>\n",
       "      <td>-0.005252</td>\n",
       "      <td>1.000000</td>\n",
       "      <td>-0.316627</td>\n",
       "      <td>-0.009835</td>\n",
       "      <td>-0.011497</td>\n",
       "      <td>0.011778</td>\n",
       "      <td>0.111110</td>\n",
       "    </tr>\n",
       "    <tr>\n",
       "      <th>NumOfProducts</th>\n",
       "      <td>0.008305</td>\n",
       "      <td>0.019297</td>\n",
       "      <td>0.012568</td>\n",
       "      <td>-0.058566</td>\n",
       "      <td>0.011453</td>\n",
       "      <td>-0.316627</td>\n",
       "      <td>1.000000</td>\n",
       "      <td>0.003859</td>\n",
       "      <td>0.016292</td>\n",
       "      <td>0.012570</td>\n",
       "      <td>-0.125282</td>\n",
       "    </tr>\n",
       "    <tr>\n",
       "      <th>HasCrCard</th>\n",
       "      <td>0.000599</td>\n",
       "      <td>-0.014023</td>\n",
       "      <td>-0.003802</td>\n",
       "      <td>-0.015278</td>\n",
       "      <td>0.027293</td>\n",
       "      <td>-0.009835</td>\n",
       "      <td>0.003859</td>\n",
       "      <td>1.000000</td>\n",
       "      <td>-0.011866</td>\n",
       "      <td>-0.010041</td>\n",
       "      <td>-0.007138</td>\n",
       "    </tr>\n",
       "    <tr>\n",
       "      <th>IsActiveMember</th>\n",
       "      <td>0.012044</td>\n",
       "      <td>0.001682</td>\n",
       "      <td>0.024262</td>\n",
       "      <td>0.039839</td>\n",
       "      <td>-0.032596</td>\n",
       "      <td>-0.011497</td>\n",
       "      <td>0.016292</td>\n",
       "      <td>-0.011866</td>\n",
       "      <td>1.000000</td>\n",
       "      <td>-0.011469</td>\n",
       "      <td>-0.156128</td>\n",
       "    </tr>\n",
       "    <tr>\n",
       "      <th>EstimatedSalary</th>\n",
       "      <td>-0.006007</td>\n",
       "      <td>0.015246</td>\n",
       "      <td>0.001237</td>\n",
       "      <td>-0.002431</td>\n",
       "      <td>0.010343</td>\n",
       "      <td>0.011778</td>\n",
       "      <td>0.012570</td>\n",
       "      <td>-0.010041</td>\n",
       "      <td>-0.011469</td>\n",
       "      <td>1.000000</td>\n",
       "      <td>0.012081</td>\n",
       "    </tr>\n",
       "    <tr>\n",
       "      <th>Exited</th>\n",
       "      <td>-0.016571</td>\n",
       "      <td>-0.006264</td>\n",
       "      <td>-0.023289</td>\n",
       "      <td>0.323968</td>\n",
       "      <td>-0.016762</td>\n",
       "      <td>0.111110</td>\n",
       "      <td>-0.125282</td>\n",
       "      <td>-0.007138</td>\n",
       "      <td>-0.156128</td>\n",
       "      <td>0.012081</td>\n",
       "      <td>1.000000</td>\n",
       "    </tr>\n",
       "  </tbody>\n",
       "</table>\n",
       "</div>"
      ],
      "text/plain": [
       "                 RowNumber  CustomerId  CreditScore       Age    Tenure  \\\n",
       "RowNumber         1.000000    0.004187     0.005130  0.000476 -0.007650   \n",
       "CustomerId        0.004187    1.000000     0.005967  0.008775 -0.021410   \n",
       "CreditScore       0.005130    0.005967     1.000000 -0.007974  0.000604   \n",
       "Age               0.000476    0.008775    -0.007974  1.000000 -0.014275   \n",
       "Tenure           -0.007650   -0.021410     0.000604 -0.014275  1.000000   \n",
       "Balance          -0.009013   -0.013932     0.005687  0.033304 -0.005252   \n",
       "NumOfProducts     0.008305    0.019297     0.012568 -0.058566  0.011453   \n",
       "HasCrCard         0.000599   -0.014023    -0.003802 -0.015278  0.027293   \n",
       "IsActiveMember    0.012044    0.001682     0.024262  0.039839 -0.032596   \n",
       "EstimatedSalary  -0.006007    0.015246     0.001237 -0.002431  0.010343   \n",
       "Exited           -0.016571   -0.006264    -0.023289  0.323968 -0.016762   \n",
       "\n",
       "                  Balance  NumOfProducts  HasCrCard  IsActiveMember  \\\n",
       "RowNumber       -0.009013       0.008305   0.000599        0.012044   \n",
       "CustomerId      -0.013932       0.019297  -0.014023        0.001682   \n",
       "CreditScore      0.005687       0.012568  -0.003802        0.024262   \n",
       "Age              0.033304      -0.058566  -0.015278        0.039839   \n",
       "Tenure          -0.005252       0.011453   0.027293       -0.032596   \n",
       "Balance          1.000000      -0.316627  -0.009835       -0.011497   \n",
       "NumOfProducts   -0.316627       1.000000   0.003859        0.016292   \n",
       "HasCrCard       -0.009835       0.003859   1.000000       -0.011866   \n",
       "IsActiveMember  -0.011497       0.016292  -0.011866        1.000000   \n",
       "EstimatedSalary  0.011778       0.012570  -0.010041       -0.011469   \n",
       "Exited           0.111110      -0.125282  -0.007138       -0.156128   \n",
       "\n",
       "                 EstimatedSalary    Exited  \n",
       "RowNumber              -0.006007 -0.016571  \n",
       "CustomerId              0.015246 -0.006264  \n",
       "CreditScore             0.001237 -0.023289  \n",
       "Age                    -0.002431  0.323968  \n",
       "Tenure                  0.010343 -0.016762  \n",
       "Balance                 0.011778  0.111110  \n",
       "NumOfProducts           0.012570 -0.125282  \n",
       "HasCrCard              -0.010041 -0.007138  \n",
       "IsActiveMember         -0.011469 -0.156128  \n",
       "EstimatedSalary         1.000000  0.012081  \n",
       "Exited                  0.012081  1.000000  "
      ]
     },
     "execution_count": 7,
     "metadata": {},
     "output_type": "execute_result"
    }
   ],
   "source": [
    "df.corr(method='spearman')"
   ]
  },
  {
   "cell_type": "code",
   "execution_count": 8,
   "metadata": {},
   "outputs": [
    {
     "data": {
      "image/png": "[encoded data removed]",
      "text/plain": [
       "<Figure size 640x480 with 2 Axes>"
      ]
     },
     "metadata": {},
     "output_type": "display_data"
    }
   ],
   "source": [
    "sns.heatmap(df.corr().round(2), cmap=\"Blues\", annot=True);"
   ]
  },
  {
   "cell_type": "markdown",
   "metadata": {},
   "source": [
    "Мультиколлинеарность отсутствует."
   ]
  },
  {
   "cell_type": "markdown",
   "metadata": {},
   "source": [
    "### Вывод\n",
    "\n",
    "Первое представление о данных получено. Можно сделать следующие выводы:\n",
    "- В таблице 14 столбцов и 10000 строк.\n",
    "- Необходимо привести наименования признаков к змеиному регистру.\n",
    "- В столбце `Tenure` есть пропуски, которые необходимо будет обработать далее.\n",
    "- Судя по данным, для обучения модели нам понадобятся не все столбцы - необходимо будет удалить столбцы `RowNumber`, `CustomerId` и `Surname`."
   ]
  },
  {
   "cell_type": "markdown",
   "metadata": {},
   "source": [
    "## 2. Предобработка данных"
   ]
  },
  {
   "cell_type": "markdown",
   "metadata": {},
   "source": [
    "Удалим столбцы, которые не понадобятся нам для обучения модели."
   ]
  },
  {
   "cell_type": "code",
   "execution_count": 9,
   "metadata": {},
   "outputs": [],
   "source": [
    "df = df.drop(['RowNumber', 'CustomerId', 'Surname'], axis=1)"
   ]
  },
  {
   "cell_type": "markdown",
   "metadata": {},
   "source": [
    "Приведем наименования признаков к змеиному регистру."
   ]
  },
  {
   "cell_type": "code",
   "execution_count": 10,
   "metadata": {},
   "outputs": [
    {
     "data": {
      "text/html": [
       "<div>\n",
       "<style scoped>\n",
       "    .dataframe tbody tr th:only-of-type {\n",
       "        vertical-align: middle;\n",
       "    }\n",
       "\n",
       "    .dataframe tbody tr th {\n",
       "        vertical-align: top;\n",
       "    }\n",
       "\n",
       "    .dataframe thead th {\n",
       "        text-align: right;\n",
       "    }\n",
       "</style>\n",
       "<table border=\"1\" class=\"dataframe\">\n",
       "  <thead>\n",
       "    <tr style=\"text-align: right;\">\n",
       "      <th></th>\n",
       "      <th>credit_score</th>\n",
       "      <th>geography</th>\n",
       "      <th>gender</th>\n",
       "      <th>age</th>\n",
       "      <th>tenure</th>\n",
       "      <th>balance</th>\n",
       "      <th>num_of_products</th>\n",
       "      <th>has_cr_card</th>\n",
       "      <th>is_active_member</th>\n",
       "      <th>estimated_salary</th>\n",
       "      <th>exited</th>\n",
       "    </tr>\n",
       "  </thead>\n",
       "  <tbody>\n",
       "    <tr>\n",
       "      <th>0</th>\n",
       "      <td>619</td>\n",
       "      <td>France</td>\n",
       "      <td>Female</td>\n",
       "      <td>42</td>\n",
       "      <td>2.0</td>\n",
       "      <td>0.00</td>\n",
       "      <td>1</td>\n",
       "      <td>1</td>\n",
       "      <td>1</td>\n",
       "      <td>101348.88</td>\n",
       "      <td>1</td>\n",
       "    </tr>\n",
       "    <tr>\n",
       "      <th>1</th>\n",
       "      <td>608</td>\n",
       "      <td>Spain</td>\n",
       "      <td>Female</td>\n",
       "      <td>41</td>\n",
       "      <td>1.0</td>\n",
       "      <td>83807.86</td>\n",
       "      <td>1</td>\n",
       "      <td>0</td>\n",
       "      <td>1</td>\n",
       "      <td>112542.58</td>\n",
       "      <td>0</td>\n",
       "    </tr>\n",
       "    <tr>\n",
       "      <th>2</th>\n",
       "      <td>502</td>\n",
       "      <td>France</td>\n",
       "      <td>Female</td>\n",
       "      <td>42</td>\n",
       "      <td>8.0</td>\n",
       "      <td>159660.80</td>\n",
       "      <td>3</td>\n",
       "      <td>1</td>\n",
       "      <td>0</td>\n",
       "      <td>113931.57</td>\n",
       "      <td>1</td>\n",
       "    </tr>\n",
       "    <tr>\n",
       "      <th>3</th>\n",
       "      <td>699</td>\n",
       "      <td>France</td>\n",
       "      <td>Female</td>\n",
       "      <td>39</td>\n",
       "      <td>1.0</td>\n",
       "      <td>0.00</td>\n",
       "      <td>2</td>\n",
       "      <td>0</td>\n",
       "      <td>0</td>\n",
       "      <td>93826.63</td>\n",
       "      <td>0</td>\n",
       "    </tr>\n",
       "    <tr>\n",
       "      <th>4</th>\n",
       "      <td>850</td>\n",
       "      <td>Spain</td>\n",
       "      <td>Female</td>\n",
       "      <td>43</td>\n",
       "      <td>2.0</td>\n",
       "      <td>125510.82</td>\n",
       "      <td>1</td>\n",
       "      <td>1</td>\n",
       "      <td>1</td>\n",
       "      <td>79084.10</td>\n",
       "      <td>0</td>\n",
       "    </tr>\n",
       "  </tbody>\n",
       "</table>\n",
       "</div>"
      ],
      "text/plain": [
       "   credit_score geography  gender  age  tenure    balance  num_of_products  \\\n",
       "0           619    France  Female   42     2.0       0.00                1   \n",
       "1           608     Spain  Female   41     1.0   83807.86                1   \n",
       "2           502    France  Female   42     8.0  159660.80                3   \n",
       "3           699    France  Female   39     1.0       0.00                2   \n",
       "4           850     Spain  Female   43     2.0  125510.82                1   \n",
       "\n",
       "   has_cr_card  is_active_member  estimated_salary  exited  \n",
       "0            1                 1         101348.88       1  \n",
       "1            0                 1         112542.58       0  \n",
       "2            1                 0         113931.57       1  \n",
       "3            0                 0          93826.63       0  \n",
       "4            1                 1          79084.10       0  "
      ]
     },
     "execution_count": 10,
     "metadata": {},
     "output_type": "execute_result"
    }
   ],
   "source": [
    "df.columns = [re.sub(r'(?<!^)(?=[A-Z])', '_', i).lower() for i in df.columns]\n",
    "df.head()"
   ]
  },
  {
   "cell_type": "markdown",
   "metadata": {},
   "source": [
    "Посмотрим на значения целевого признака."
   ]
  },
  {
   "cell_type": "code",
   "execution_count": 11,
   "metadata": {},
   "outputs": [
    {
     "data": {
      "text/plain": [
       "0    7963\n",
       "1    2037\n",
       "Name: exited, dtype: int64"
      ]
     },
     "execution_count": 11,
     "metadata": {},
     "output_type": "execute_result"
    }
   ],
   "source": [
    "df['exited'].value_counts()"
   ]
  },
  {
   "cell_type": "markdown",
   "metadata": {},
   "source": [
    "В целевом признаке присутствует довольно сильный дисбаланс."
   ]
  },
  {
   "cell_type": "markdown",
   "metadata": {},
   "source": [
    "Займемся пропусками в столбце `tenure`."
   ]
  },
  {
   "cell_type": "code",
   "execution_count": 12,
   "metadata": {},
   "outputs": [
    {
     "name": "stdout",
     "output_type": "stream",
     "text": [
      "Количество пропусков:  909\n",
      "Процент пропусков:  10.0 %\n"
     ]
    }
   ],
   "source": [
    "print('Количество пропусков: ', df['tenure'].isna().sum())\n",
    "print('Процент пропусков: ', round((df['tenure'].isna().sum()/df['tenure'].count() * 100), 2), '%')"
   ]
  },
  {
   "cell_type": "markdown",
   "metadata": {},
   "source": [
    "В столбце пропущено 10% данных - это довольно много, да и выборка у нас небольшая. Не будем удалять эти строки. Посмотрим, какие значения присутствуют в столбце."
   ]
  },
  {
   "cell_type": "code",
   "execution_count": 13,
   "metadata": {},
   "outputs": [
    {
     "data": {
      "text/plain": [
       "1.0     952\n",
       "2.0     950\n",
       "8.0     933\n",
       "3.0     928\n",
       "5.0     927\n",
       "7.0     925\n",
       "4.0     885\n",
       "9.0     882\n",
       "6.0     881\n",
       "10.0    446\n",
       "0.0     382\n",
       "Name: tenure, dtype: int64"
      ]
     },
     "execution_count": 13,
     "metadata": {},
     "output_type": "execute_result"
    }
   ],
   "source": [
    "df['tenure'].value_counts()"
   ]
  },
  {
   "cell_type": "markdown",
   "metadata": {},
   "source": [
    "Данные в столбце распределены от 0 до 10, без выбросов. Заменим пропуски медианой, изменим тип данных на целочисленный и посмотрим, какие получились данные."
   ]
  },
  {
   "cell_type": "code",
   "execution_count": 14,
   "metadata": {},
   "outputs": [
    {
     "data": {
      "text/plain": [
       "5     1836\n",
       "1      952\n",
       "2      950\n",
       "8      933\n",
       "3      928\n",
       "7      925\n",
       "4      885\n",
       "9      882\n",
       "6      881\n",
       "10     446\n",
       "0      382\n",
       "Name: tenure, dtype: int64"
      ]
     },
     "execution_count": 14,
     "metadata": {},
     "output_type": "execute_result"
    }
   ],
   "source": [
    "df['tenure'] = df['tenure'].fillna(df['tenure'].median())\n",
    "df['tenure'] = df['tenure'].astype('int64')\n",
    "df['tenure'].value_counts()"
   ]
  },
  {
   "cell_type": "markdown",
   "metadata": {},
   "source": [
    "Еще раз посмотрим общую информацию о данных таблицы `df`."
   ]
  },
  {
   "cell_type": "code",
   "execution_count": 15,
   "metadata": {},
   "outputs": [
    {
     "name": "stdout",
     "output_type": "stream",
     "text": [
      "<class 'pandas.core.frame.DataFrame'>\n",
      "RangeIndex: 10000 entries, 0 to 9999\n",
      "Data columns (total 11 columns):\n",
      " #   Column            Non-Null Count  Dtype  \n",
      "---  ------            --------------  -----  \n",
      " 0   credit_score      10000 non-null  int64  \n",
      " 1   geography         10000 non-null  object \n",
      " 2   gender            10000 non-null  object \n",
      " 3   age               10000 non-null  int64  \n",
      " 4   tenure            10000 non-null  int64  \n",
      " 5   balance           10000 non-null  float64\n",
      " 6   num_of_products   10000 non-null  int64  \n",
      " 7   has_cr_card       10000 non-null  int64  \n",
      " 8   is_active_member  10000 non-null  int64  \n",
      " 9   estimated_salary  10000 non-null  float64\n",
      " 10  exited            10000 non-null  int64  \n",
      "dtypes: float64(2), int64(7), object(2)\n",
      "memory usage: 859.5+ KB\n"
     ]
    }
   ],
   "source": [
    "df.info()"
   ]
  },
  {
   "cell_type": "markdown",
   "metadata": {},
   "source": [
    "Рассмотрим признаки с типом данных `object` (столбцы `geography` и `gender`)."
   ]
  },
  {
   "cell_type": "code",
   "execution_count": 16,
   "metadata": {},
   "outputs": [
    {
     "data": {
      "text/plain": [
       "Male      5457\n",
       "Female    4543\n",
       "Name: gender, dtype: int64"
      ]
     },
     "execution_count": 16,
     "metadata": {},
     "output_type": "execute_result"
    }
   ],
   "source": [
    "df['gender'].value_counts()"
   ]
  },
  {
   "cell_type": "markdown",
   "metadata": {},
   "source": [
    "Никаких \"неожиданных\" значений в столбце нет - только 2 пола."
   ]
  },
  {
   "cell_type": "code",
   "execution_count": 17,
   "metadata": {},
   "outputs": [
    {
     "data": {
      "text/plain": [
       "France     5014\n",
       "Germany    2509\n",
       "Spain      2477\n",
       "Name: geography, dtype: int64"
      ]
     },
     "execution_count": 17,
     "metadata": {},
     "output_type": "execute_result"
    }
   ],
   "source": [
    "df['geography'].value_counts()"
   ]
  },
  {
   "cell_type": "markdown",
   "metadata": {},
   "source": [
    "В данных представлено всего 3 страны."
   ]
  },
  {
   "cell_type": "markdown",
   "metadata": {},
   "source": [
    "### Вывод\n",
    "\n",
    "На этапе предобработки данных была проведена следующая работа:\n",
    "- Названия столбцов приведены к змеиному регистру.\n",
    "- Удалены признаки, которые не понадобятся нам для обучения модели.\n",
    "- Пропуски в столбце `tenure` заполнены медианным значением, тип данных изменен на целочисленный.\n",
    "- В целевом признаке `exited` присутствует дисбаланс, что необходимо будет учесть при построении моделей.\n",
    "\n",
    "Категориальные признаки:\n",
    "- `geography`\n",
    "- `gender`\n",
    "- `has_cr_card`\n",
    "- `is_active_member`\n",
    "\n",
    "Количественные признаки:\n",
    "- `credit_score`\n",
    "- `age`\n",
    "- `tenure`\n",
    "- `balance`\n",
    "- `num_of_products`\n",
    "- `estimated_salary`"
   ]
  },
  {
   "cell_type": "markdown",
   "metadata": {},
   "source": [
    "## 3. Исследование задачи"
   ]
  },
  {
   "cell_type": "markdown",
   "metadata": {},
   "source": [
    "Обработаем признаки техникой OHE (One-hot encoding), так как она подходит для всех моделей."
   ]
  },
  {
   "cell_type": "code",
   "execution_count": 18,
   "metadata": {},
   "outputs": [
    {
     "data": {
      "text/html": [
       "<div>\n",
       "<style scoped>\n",
       "    .dataframe tbody tr th:only-of-type {\n",
       "        vertical-align: middle;\n",
       "    }\n",
       "\n",
       "    .dataframe tbody tr th {\n",
       "        vertical-align: top;\n",
       "    }\n",
       "\n",
       "    .dataframe thead th {\n",
       "        text-align: right;\n",
       "    }\n",
       "</style>\n",
       "<table border=\"1\" class=\"dataframe\">\n",
       "  <thead>\n",
       "    <tr style=\"text-align: right;\">\n",
       "      <th></th>\n",
       "      <th>credit_score</th>\n",
       "      <th>age</th>\n",
       "      <th>tenure</th>\n",
       "      <th>balance</th>\n",
       "      <th>num_of_products</th>\n",
       "      <th>has_cr_card</th>\n",
       "      <th>is_active_member</th>\n",
       "      <th>estimated_salary</th>\n",
       "      <th>exited</th>\n",
       "      <th>geography_Germany</th>\n",
       "      <th>geography_Spain</th>\n",
       "      <th>gender_Male</th>\n",
       "    </tr>\n",
       "  </thead>\n",
       "  <tbody>\n",
       "    <tr>\n",
       "      <th>0</th>\n",
       "      <td>619</td>\n",
       "      <td>42</td>\n",
       "      <td>2</td>\n",
       "      <td>0.00</td>\n",
       "      <td>1</td>\n",
       "      <td>1</td>\n",
       "      <td>1</td>\n",
       "      <td>101348.88</td>\n",
       "      <td>1</td>\n",
       "      <td>0</td>\n",
       "      <td>0</td>\n",
       "      <td>0</td>\n",
       "    </tr>\n",
       "    <tr>\n",
       "      <th>1</th>\n",
       "      <td>608</td>\n",
       "      <td>41</td>\n",
       "      <td>1</td>\n",
       "      <td>83807.86</td>\n",
       "      <td>1</td>\n",
       "      <td>0</td>\n",
       "      <td>1</td>\n",
       "      <td>112542.58</td>\n",
       "      <td>0</td>\n",
       "      <td>0</td>\n",
       "      <td>1</td>\n",
       "      <td>0</td>\n",
       "    </tr>\n",
       "    <tr>\n",
       "      <th>2</th>\n",
       "      <td>502</td>\n",
       "      <td>42</td>\n",
       "      <td>8</td>\n",
       "      <td>159660.80</td>\n",
       "      <td>3</td>\n",
       "      <td>1</td>\n",
       "      <td>0</td>\n",
       "      <td>113931.57</td>\n",
       "      <td>1</td>\n",
       "      <td>0</td>\n",
       "      <td>0</td>\n",
       "      <td>0</td>\n",
       "    </tr>\n",
       "    <tr>\n",
       "      <th>3</th>\n",
       "      <td>699</td>\n",
       "      <td>39</td>\n",
       "      <td>1</td>\n",
       "      <td>0.00</td>\n",
       "      <td>2</td>\n",
       "      <td>0</td>\n",
       "      <td>0</td>\n",
       "      <td>93826.63</td>\n",
       "      <td>0</td>\n",
       "      <td>0</td>\n",
       "      <td>0</td>\n",
       "      <td>0</td>\n",
       "    </tr>\n",
       "    <tr>\n",
       "      <th>4</th>\n",
       "      <td>850</td>\n",
       "      <td>43</td>\n",
       "      <td>2</td>\n",
       "      <td>125510.82</td>\n",
       "      <td>1</td>\n",
       "      <td>1</td>\n",
       "      <td>1</td>\n",
       "      <td>79084.10</td>\n",
       "      <td>0</td>\n",
       "      <td>0</td>\n",
       "      <td>1</td>\n",
       "      <td>0</td>\n",
       "    </tr>\n",
       "  </tbody>\n",
       "</table>\n",
       "</div>"
      ],
      "text/plain": [
       "   credit_score  age  tenure    balance  num_of_products  has_cr_card  \\\n",
       "0           619   42       2       0.00                1            1   \n",
       "1           608   41       1   83807.86                1            0   \n",
       "2           502   42       8  159660.80                3            1   \n",
       "3           699   39       1       0.00                2            0   \n",
       "4           850   43       2  125510.82                1            1   \n",
       "\n",
       "   is_active_member  estimated_salary  exited  geography_Germany  \\\n",
       "0                 1         101348.88       1                  0   \n",
       "1                 1         112542.58       0                  0   \n",
       "2                 0         113931.57       1                  0   \n",
       "3                 0          93826.63       0                  0   \n",
       "4                 1          79084.10       0                  0   \n",
       "\n",
       "   geography_Spain  gender_Male  \n",
       "0                0            0  \n",
       "1                1            0  \n",
       "2                0            0  \n",
       "3                0            0  \n",
       "4                1            0  "
      ]
     },
     "execution_count": 18,
     "metadata": {},
     "output_type": "execute_result"
    }
   ],
   "source": [
    "df_ohe = pd.get_dummies(df, drop_first=True)\n",
    "df_ohe.head()"
   ]
  },
  {
   "cell_type": "markdown",
   "metadata": {},
   "source": [
    "Разделим датафрейм на целевой признак и фичи."
   ]
  },
  {
   "cell_type": "code",
   "execution_count": 19,
   "metadata": {},
   "outputs": [],
   "source": [
    "features = df_ohe.drop('exited', axis=1)\n",
    "target = df_ohe['exited']"
   ]
  },
  {
   "cell_type": "markdown",
   "metadata": {},
   "source": [
    "Разделим данные на обучающую, валидационную и тестовую выборки в соотношении 3:1:1."
   ]
  },
  {
   "cell_type": "code",
   "execution_count": 20,
   "metadata": {},
   "outputs": [
    {
     "name": "stdout",
     "output_type": "stream",
     "text": [
      "Размер обучающей выборки: (6000, 11) (6000,)\n",
      "Размер валидационной выборки: (2000, 11) (2000,)\n",
      "Размер тестовой выборки: (2000, 11) (2000,)\n"
     ]
    }
   ],
   "source": [
    "features_train, features_test_and_valid, target_train, target_test_and_valid = train_test_split(\n",
    "    features, \n",
    "    target,  \n",
    "    test_size=0.4, \n",
    "    random_state=12345\n",
    ")\n",
    "\n",
    "features_valid, features_test, target_valid, target_test  = train_test_split(\n",
    "    features_test_and_valid, \n",
    "    target_test_and_valid, \n",
    "    test_size=0.5, \n",
    "    random_state=12345\n",
    ")\n",
    "\n",
    "print('Размер обучающей выборки:', features_train.shape, target_train.shape)\n",
    "print('Размер валидационной выборки:', features_valid.shape, target_valid.shape)\n",
    "print('Размер тестовой выборки:', features_test.shape, target_test.shape)"
   ]
  },
  {
   "cell_type": "markdown",
   "metadata": {},
   "source": [
    "Так как количественные признаки имеют разный масштаб, необходимо их масштабировать, чтобы модель не принимала данные с большими значениями за самые важные."
   ]
  },
  {
   "cell_type": "code",
   "execution_count": 21,
   "metadata": {},
   "outputs": [
    {
     "data": {
      "text/html": [
       "<div>\n",
       "<style scoped>\n",
       "    .dataframe tbody tr th:only-of-type {\n",
       "        vertical-align: middle;\n",
       "    }\n",
       "\n",
       "    .dataframe tbody tr th {\n",
       "        vertical-align: top;\n",
       "    }\n",
       "\n",
       "    .dataframe thead th {\n",
       "        text-align: right;\n",
       "    }\n",
       "</style>\n",
       "<table border=\"1\" class=\"dataframe\">\n",
       "  <thead>\n",
       "    <tr style=\"text-align: right;\">\n",
       "      <th></th>\n",
       "      <th>credit_score</th>\n",
       "      <th>age</th>\n",
       "      <th>tenure</th>\n",
       "      <th>balance</th>\n",
       "      <th>num_of_products</th>\n",
       "      <th>has_cr_card</th>\n",
       "      <th>is_active_member</th>\n",
       "      <th>estimated_salary</th>\n",
       "      <th>geography_Germany</th>\n",
       "      <th>geography_Spain</th>\n",
       "      <th>gender_Male</th>\n",
       "    </tr>\n",
       "  </thead>\n",
       "  <tbody>\n",
       "    <tr>\n",
       "      <th>7479</th>\n",
       "      <td>-0.886751</td>\n",
       "      <td>-0.373192</td>\n",
       "      <td>1.082277</td>\n",
       "      <td>1.232271</td>\n",
       "      <td>-0.891560</td>\n",
       "      <td>1</td>\n",
       "      <td>0</td>\n",
       "      <td>-0.187705</td>\n",
       "      <td>0</td>\n",
       "      <td>1</td>\n",
       "      <td>1</td>\n",
       "    </tr>\n",
       "    <tr>\n",
       "      <th>3411</th>\n",
       "      <td>0.608663</td>\n",
       "      <td>-0.183385</td>\n",
       "      <td>1.082277</td>\n",
       "      <td>0.600563</td>\n",
       "      <td>-0.891560</td>\n",
       "      <td>0</td>\n",
       "      <td>0</td>\n",
       "      <td>-0.333945</td>\n",
       "      <td>0</td>\n",
       "      <td>0</td>\n",
       "      <td>0</td>\n",
       "    </tr>\n",
       "    <tr>\n",
       "      <th>6027</th>\n",
       "      <td>2.052152</td>\n",
       "      <td>0.480939</td>\n",
       "      <td>-0.737696</td>\n",
       "      <td>1.027098</td>\n",
       "      <td>0.830152</td>\n",
       "      <td>0</td>\n",
       "      <td>1</td>\n",
       "      <td>1.503095</td>\n",
       "      <td>1</td>\n",
       "      <td>0</td>\n",
       "      <td>1</td>\n",
       "    </tr>\n",
       "    <tr>\n",
       "      <th>1247</th>\n",
       "      <td>-1.457915</td>\n",
       "      <td>-1.417129</td>\n",
       "      <td>0.354288</td>\n",
       "      <td>-1.233163</td>\n",
       "      <td>0.830152</td>\n",
       "      <td>1</td>\n",
       "      <td>0</td>\n",
       "      <td>-1.071061</td>\n",
       "      <td>0</td>\n",
       "      <td>0</td>\n",
       "      <td>1</td>\n",
       "    </tr>\n",
       "    <tr>\n",
       "      <th>3716</th>\n",
       "      <td>0.130961</td>\n",
       "      <td>-1.132419</td>\n",
       "      <td>-1.101690</td>\n",
       "      <td>1.140475</td>\n",
       "      <td>-0.891560</td>\n",
       "      <td>0</td>\n",
       "      <td>0</td>\n",
       "      <td>1.524268</td>\n",
       "      <td>1</td>\n",
       "      <td>0</td>\n",
       "      <td>0</td>\n",
       "    </tr>\n",
       "  </tbody>\n",
       "</table>\n",
       "</div>"
      ],
      "text/plain": [
       "      credit_score       age    tenure   balance  num_of_products  \\\n",
       "7479     -0.886751 -0.373192  1.082277  1.232271        -0.891560   \n",
       "3411      0.608663 -0.183385  1.082277  0.600563        -0.891560   \n",
       "6027      2.052152  0.480939 -0.737696  1.027098         0.830152   \n",
       "1247     -1.457915 -1.417129  0.354288 -1.233163         0.830152   \n",
       "3716      0.130961 -1.132419 -1.101690  1.140475        -0.891560   \n",
       "\n",
       "      has_cr_card  is_active_member  estimated_salary  geography_Germany  \\\n",
       "7479            1                 0         -0.187705                  0   \n",
       "3411            0                 0         -0.333945                  0   \n",
       "6027            0                 1          1.503095                  1   \n",
       "1247            1                 0         -1.071061                  0   \n",
       "3716            0                 0          1.524268                  1   \n",
       "\n",
       "      geography_Spain  gender_Male  \n",
       "7479                1            1  \n",
       "3411                0            0  \n",
       "6027                0            1  \n",
       "1247                0            1  \n",
       "3716                0            0  "
      ]
     },
     "execution_count": 21,
     "metadata": {},
     "output_type": "execute_result"
    }
   ],
   "source": [
    "numeric = ['credit_score', 'age', 'tenure', 'balance', 'num_of_products', 'estimated_salary']\n",
    "\n",
    "pd.options.mode.chained_assignment = None\n",
    "\n",
    "scaler = StandardScaler()\n",
    "scaler.fit(features_train[numeric])\n",
    "\n",
    "features_train[numeric] = scaler.transform(features_train[numeric])\n",
    "features_valid[numeric] = scaler.transform(features_valid[numeric])\n",
    "features_test[numeric] = scaler.transform(features_test[numeric])\n",
    "\n",
    "features_train.head()"
   ]
  },
  {
   "cell_type": "markdown",
   "metadata": {},
   "source": [
    "### Исследование без учета дисбаланса классов"
   ]
  },
  {
   "cell_type": "markdown",
   "metadata": {},
   "source": [
    "Перед нами стоит задача классификации, для построения моделей используем три алгоритма: \n",
    "- Решающее дерево;\n",
    "- Случайный лес;\n",
    "- Логистическая регрессия. \n",
    "\n",
    "Построим модели с подбором гиперпараметров, без учета дисбаланса классов.\n",
    "\n",
    "Для оценки качества моделей используем F1-меру, Recall и AUC-ROC."
   ]
  },
  {
   "cell_type": "markdown",
   "metadata": {},
   "source": [
    "Создадим таблицу для вывода результатов."
   ]
  },
  {
   "cell_type": "code",
   "execution_count": 22,
   "metadata": {},
   "outputs": [],
   "source": [
    "total = {\n",
    "    'DecisionTree': [], \n",
    "    'RandomForest': [], \n",
    "    'LogisticRegression': []\n",
    "}"
   ]
  },
  {
   "cell_type": "markdown",
   "metadata": {},
   "source": [
    "#### Решающее дерево"
   ]
  },
  {
   "cell_type": "code",
   "execution_count": 23,
   "metadata": {},
   "outputs": [
    {
     "name": "stdout",
     "output_type": "stream",
     "text": [
      "Наилучшее значение F1: 0.5697\n",
      "Наилучшая глубина дерева: 6\n",
      "CPU times: user 107 ms, sys: 3.12 ms, total: 110 ms\n",
      "Wall time: 109 ms\n"
     ]
    }
   ],
   "source": [
    "%%time\n",
    "\n",
    "best_model = None\n",
    "best_result = 0\n",
    "best_depth = 0\n",
    "for depth in range(1, 10):\n",
    "    model = DecisionTreeClassifier(random_state=12345, max_depth=depth)\n",
    "    model.fit(features_train, target_train)\n",
    "    predicted_valid = model.predict(features_valid)\n",
    "    result = f1_score(target_valid, predicted_valid)\n",
    "    if result > best_result:\n",
    "        best_model = model\n",
    "        best_result = result\n",
    "        best_depth = depth\n",
    "\n",
    "print('Наилучшее значение F1:', best_result.round(4))\n",
    "print('Наилучшая глубина дерева:', best_depth)"
   ]
  },
  {
   "cell_type": "code",
   "execution_count": 24,
   "metadata": {},
   "outputs": [
    {
     "name": "stdout",
     "output_type": "stream",
     "text": [
      "AUC-ROC: 0.8165\n",
      "Полнота: 0.4498\n"
     ]
    }
   ],
   "source": [
    "model_lr = DecisionTreeClassifier(random_state=12345, max_depth=6)\n",
    "model_lr.fit(features_train, target_train)\n",
    "predicted_valid = model_lr.predict(features_valid)\n",
    "\n",
    "probabilities_valid = model_lr.predict_proba(features_valid)\n",
    "probabilities_one_valid = probabilities_valid[:, 1]\n",
    "\n",
    "auc_roc_lr = roc_auc_score(target_valid, probabilities_one_valid).round(4)\n",
    "recall_lr = recall_score(target_valid, predicted_valid).round(4)\n",
    "\n",
    "print('AUC-ROC:', auc_roc_lr)\n",
    "print('Полнота:', recall_lr)"
   ]
  },
  {
   "cell_type": "code",
   "execution_count": 25,
   "metadata": {},
   "outputs": [],
   "source": [
    "total['DecisionTree'].append(best_result.round(4))\n",
    "total['DecisionTree'].append(auc_roc_lr)\n",
    "total['DecisionTree'].append(recall_lr)"
   ]
  },
  {
   "cell_type": "markdown",
   "metadata": {},
   "source": [
    "### Случайный лес"
   ]
  },
  {
   "cell_type": "code",
   "execution_count": 26,
   "metadata": {},
   "outputs": [
    {
     "name": "stdout",
     "output_type": "stream",
     "text": [
      "Наилучшее значение F1: 0.5897\n",
      "Количество деревьев: 90\n",
      "Глубина дерева: 12\n",
      "CPU times: user 26.9 s, sys: 268 ms, total: 27.2 s\n",
      "Wall time: 27.3 s\n"
     ]
    }
   ],
   "source": [
    "%%time\n",
    "\n",
    "best_model = None\n",
    "best_result = 0\n",
    "for depth in range(1, 15):\n",
    "    for est in range(30, 110, 10):\n",
    "        model = RandomForestClassifier(random_state=12345, n_estimators=est, max_depth=depth)\n",
    "        model.fit(features_train, target_train)\n",
    "        predicted_valid = model.predict(features_valid)\n",
    "        result = f1_score(target_valid, predicted_valid)\n",
    "        if result > best_result:\n",
    "            best_model = model\n",
    "            best_result = result\n",
    "            best_est = est\n",
    "            best_depth = depth\n",
    "\n",
    "print('Наилучшее значение F1:', best_result.round(4))\n",
    "print('Количество деревьев:', best_est)\n",
    "print('Глубина дерева:', best_depth)"
   ]
  },
  {
   "cell_type": "code",
   "execution_count": 27,
   "metadata": {},
   "outputs": [
    {
     "name": "stdout",
     "output_type": "stream",
     "text": [
      "AUC-ROC: 0.8484\n",
      "Полнота: 0.4641\n"
     ]
    }
   ],
   "source": [
    "model_rf = RandomForestClassifier(random_state=12345, n_estimators=90, max_depth=12)\n",
    "model_rf.fit(features_train, target_train)\n",
    "predicted_valid = model_rf.predict(features_valid)\n",
    "\n",
    "probabilities_valid = model_rf.predict_proba(features_valid)\n",
    "probabilities_one_valid = probabilities_valid[:, 1]\n",
    "\n",
    "auc_roc_rf = roc_auc_score(target_valid, probabilities_one_valid).round(4)\n",
    "recall_rf = recall_score(target_valid, predicted_valid).round(4)\n",
    "\n",
    "print('AUC-ROC:', auc_roc_rf)\n",
    "print('Полнота:', recall_rf)"
   ]
  },
  {
   "cell_type": "code",
   "execution_count": 28,
   "metadata": {},
   "outputs": [],
   "source": [
    "total['RandomForest'].append(best_result.round(4))\n",
    "total['RandomForest'].append(auc_roc_rf)\n",
    "total['RandomForest'].append(recall_rf)"
   ]
  },
  {
   "cell_type": "markdown",
   "metadata": {},
   "source": [
    "### Логистическая регрессия"
   ]
  },
  {
   "cell_type": "code",
   "execution_count": 29,
   "metadata": {},
   "outputs": [
    {
     "name": "stdout",
     "output_type": "stream",
     "text": [
      "Наилучшее значение F1: 0.5787\n",
      "AUC-ROC: 0.7588\n",
      "Полнота: 0.2344\n",
      "CPU times: user 12.7 ms, sys: 2.02 ms, total: 14.7 ms\n",
      "Wall time: 16.1 ms\n"
     ]
    }
   ],
   "source": [
    "%%time\n",
    "\n",
    "model_lr = LogisticRegression(random_state=12345, solver='liblinear')\n",
    "model_lr.fit(features_train, target_train) \n",
    "predicted_valid = model_lr.predict(features_valid)\n",
    "\n",
    "result_lr = f1_score(target_valid, predicted_valid)\n",
    "\n",
    "probabilities_valid = model_lr.predict_proba(features_valid)\n",
    "probabilities_one_valid = probabilities_valid[:, 1]\n",
    "\n",
    "auc_roc_lr = roc_auc_score(target_valid, probabilities_one_valid).round(4)\n",
    "recall_lr = recall_score(target_valid, predicted_valid).round(4)\n",
    "\n",
    "print('Наилучшее значение F1:', result.round(4))\n",
    "print('AUC-ROC:', auc_roc_lr)\n",
    "print('Полнота:', recall_lr)"
   ]
  },
  {
   "cell_type": "code",
   "execution_count": 30,
   "metadata": {},
   "outputs": [],
   "source": [
    "total['LogisticRegression'].append(result_lr.round(4))\n",
    "total['LogisticRegression'].append(auc_roc_lr)\n",
    "total['LogisticRegression'].append(recall_lr)"
   ]
  },
  {
   "cell_type": "code",
   "execution_count": 31,
   "metadata": {},
   "outputs": [
    {
     "data": {
      "text/plain": [
       "{'DecisionTree': [0.5697, 0.8165, 0.4498],\n",
       " 'RandomForest': [0.5897, 0.8484, 0.4641],\n",
       " 'LogisticRegression': [0.3311, 0.7588, 0.2344]}"
      ]
     },
     "execution_count": 31,
     "metadata": {},
     "output_type": "execute_result"
    }
   ],
   "source": [
    "total"
   ]
  },
  {
   "cell_type": "markdown",
   "metadata": {},
   "source": [
    "### Вывод\n",
    "\n",
    "Наилучшее значение F1-меры (0.5897) показала модель случайного леса с количеством деревьев = 90 и глубиной дерева = 12, значение AUC-ROC также довольно высоко (0.8484), полнота = 0.4641. Тем не менее, эта модель работает медленнее всех.\n",
    "\n",
    "Recall показывает, какую долю положительных (1) среди всех ответов выделила модель. У всех моделей полнота ниже 0,5, значит, модели плохо разобрались в классах (объяснимо, ведь они обучались в основном на нулях).\n",
    "\n",
    "Быстрее всего работает модель логистической регрессии, при этом выдавая самое низкое значение F1-меры, AUC-ROC и полноты."
   ]
  },
  {
   "cell_type": "markdown",
   "metadata": {},
   "source": [
    "## 4. Борьба с дисбалансом"
   ]
  },
  {
   "cell_type": "markdown",
   "metadata": {},
   "source": [
    "Как отмечалось выше, в целевом признаке присутствует дисбаланс. Данные распределны примерно 4:1. \n",
    "\n",
    "Применим следующие методы борьбы с дисбалансом:\n",
    "- Взвешивание классов;\n",
    "- Увеличение выборки;\n",
    "- Уменьшение выборки. \n",
    "\n",
    "Применяя каждый метод, снова построим модели: решающее дерево, случайный лес и логистическую регрессию. \n",
    "\n",
    "Для оценки качества моделей используем F1-меру, Recall и AUC-ROC."
   ]
  },
  {
   "cell_type": "markdown",
   "metadata": {},
   "source": [
    "### 4.1. Взвешивание классов"
   ]
  },
  {
   "cell_type": "markdown",
   "metadata": {},
   "source": [
    "Добавим каждой модели параметр `class_weight='balanced'` и выполним обучение."
   ]
  },
  {
   "cell_type": "markdown",
   "metadata": {},
   "source": [
    "#### 4.1.1 Решающее дерево"
   ]
  },
  {
   "cell_type": "code",
   "execution_count": 32,
   "metadata": {},
   "outputs": [
    {
     "name": "stdout",
     "output_type": "stream",
     "text": [
      "Наилучшее значение F1: 0.5964\n",
      "Наилучшая глубина дерева: 5\n",
      "CPU times: user 113 ms, sys: 1.58 ms, total: 115 ms\n",
      "Wall time: 114 ms\n"
     ]
    }
   ],
   "source": [
    "%%time\n",
    "\n",
    "best_model = None\n",
    "best_result = 0\n",
    "best_depth = 0\n",
    "for depth in range(1, 10):\n",
    "    model = DecisionTreeClassifier(random_state=12345, max_depth=depth, class_weight='balanced')\n",
    "    model.fit(features_train, target_train)\n",
    "    predicted_valid = model.predict(features_valid)\n",
    "    result = f1_score(target_valid, predicted_valid)\n",
    "    if result > best_result:\n",
    "        best_model = model\n",
    "        best_result = result\n",
    "        best_depth = depth\n",
    "\n",
    "print('Наилучшее значение F1:', best_result.round(4))\n",
    "print('Наилучшая глубина дерева:', best_depth)"
   ]
  },
  {
   "cell_type": "code",
   "execution_count": 33,
   "metadata": {},
   "outputs": [
    {
     "name": "stdout",
     "output_type": "stream",
     "text": [
      "AUC-ROC: 0.831\n",
      "Полнота: 0.6699\n"
     ]
    }
   ],
   "source": [
    "model_lr_balanced = DecisionTreeClassifier(random_state=12345, max_depth=5, class_weight='balanced')\n",
    "model_lr_balanced.fit(features_train, target_train)\n",
    "predicted_valid = model_lr_balanced.predict(features_valid)\n",
    "\n",
    "probabilities_valid = model_lr_balanced.predict_proba(features_valid)\n",
    "probabilities_one_valid = probabilities_valid[:, 1]\n",
    "\n",
    "auc_roc_lr_balanced = roc_auc_score(target_valid, probabilities_one_valid).round(4)\n",
    "recall_lr_balanced = recall_score(target_valid, predicted_valid).round(4)\n",
    "\n",
    "print('AUC-ROC:', auc_roc_lr_balanced)\n",
    "print('Полнота:', recall_lr_balanced)"
   ]
  },
  {
   "cell_type": "code",
   "execution_count": 34,
   "metadata": {},
   "outputs": [],
   "source": [
    "total['DecisionTree'].append(best_result.round(4))\n",
    "total['DecisionTree'].append(auc_roc_lr_balanced)\n",
    "total['DecisionTree'].append(recall_lr_balanced)"
   ]
  },
  {
   "cell_type": "markdown",
   "metadata": {},
   "source": [
    "#### 4.1.2 Случайный лес"
   ]
  },
  {
   "cell_type": "code",
   "execution_count": 35,
   "metadata": {},
   "outputs": [
    {
     "name": "stdout",
     "output_type": "stream",
     "text": [
      "Наилучшее значение F1: 0.6294\n",
      "Количество деревьев: 180\n",
      "Глубина дерева: 8\n",
      "CPU times: user 1min 12s, sys: 705 ms, total: 1min 13s\n",
      "Wall time: 1min 13s\n"
     ]
    }
   ],
   "source": [
    "%%time\n",
    "\n",
    "best_model = None\n",
    "best_result = 0\n",
    "for depth in range(1, 15):\n",
    "    for est in range(100, 200, 10):\n",
    "        model = RandomForestClassifier(random_state=12345, \n",
    "                                       n_estimators=est, \n",
    "                                       max_depth=depth, \n",
    "                                       class_weight='balanced')\n",
    "        model.fit(features_train, target_train)\n",
    "        predicted_valid = model.predict(features_valid)\n",
    "        result = f1_score(target_valid, predicted_valid)\n",
    "        if result > best_result:\n",
    "            best_model = model\n",
    "            best_result = result\n",
    "            best_est = est\n",
    "            best_depth = depth\n",
    "\n",
    "print('Наилучшее значение F1:', best_result.round(4))\n",
    "print('Количество деревьев:', best_est)\n",
    "print('Глубина дерева:', best_depth)"
   ]
  },
  {
   "cell_type": "code",
   "execution_count": 36,
   "metadata": {},
   "outputs": [
    {
     "name": "stdout",
     "output_type": "stream",
     "text": [
      "AUC-ROC: 0.8579\n",
      "Полнота: 0.6866\n"
     ]
    }
   ],
   "source": [
    "model_rf_balanced = RandomForestClassifier(random_state=12345, \n",
    "                                           n_estimators=180, \n",
    "                                           max_depth=8, \n",
    "                                           class_weight='balanced')\n",
    "model_rf_balanced.fit(features_train, target_train)\n",
    "predicted_valid = model_rf_balanced.predict(features_valid)\n",
    "\n",
    "probabilities_valid = model_rf_balanced.predict_proba(features_valid)\n",
    "probabilities_one_valid = probabilities_valid[:, 1]\n",
    "\n",
    "auc_roc_rf_balanced = roc_auc_score(target_valid, probabilities_one_valid).round(4)\n",
    "recall_rf_balanced = recall_score(target_valid, predicted_valid).round(4)\n",
    "\n",
    "print('AUC-ROC:', auc_roc_rf_balanced)\n",
    "print('Полнота:', recall_rf_balanced)"
   ]
  },
  {
   "cell_type": "code",
   "execution_count": 37,
   "metadata": {},
   "outputs": [],
   "source": [
    "total['RandomForest'].append(best_result.round(4))\n",
    "total['RandomForest'].append(auc_roc_rf_balanced)\n",
    "total['RandomForest'].append(recall_rf_balanced)"
   ]
  },
  {
   "cell_type": "markdown",
   "metadata": {},
   "source": [
    "#### 4.1.3 Логистическая регрессия"
   ]
  },
  {
   "cell_type": "code",
   "execution_count": 38,
   "metadata": {},
   "outputs": [
    {
     "name": "stdout",
     "output_type": "stream",
     "text": [
      "Наилучшее значение F1: 0.4889\n",
      "AUC-ROC: 0.7637\n",
      "Полнота: 0.6818\n",
      "CPU times: user 12.5 ms, sys: 1.2 ms, total: 13.7 ms\n",
      "Wall time: 12.8 ms\n"
     ]
    }
   ],
   "source": [
    "%%time\n",
    "\n",
    "model_lr_balanced = LogisticRegression(random_state=12345, solver='liblinear', class_weight='balanced')\n",
    "model_lr_balanced.fit(features_train, target_train) \n",
    "predicted_valid = model_lr_balanced.predict(features_valid)\n",
    "\n",
    "result_lr_balanced = f1_score(target_valid, predicted_valid)\n",
    "\n",
    "probabilities_valid = model_lr_balanced.predict_proba(features_valid)\n",
    "probabilities_one_valid = probabilities_valid[:, 1]\n",
    "\n",
    "auc_roc_lr_balanced = roc_auc_score(target_valid, probabilities_one_valid).round(4)\n",
    "recall_lr_balanced = recall_score(target_valid, predicted_valid).round(4)\n",
    "\n",
    "print('Наилучшее значение F1:', result_lr_balanced.round(4))\n",
    "print('AUC-ROC:', auc_roc_lr_balanced)\n",
    "print('Полнота:', recall_lr_balanced)"
   ]
  },
  {
   "cell_type": "code",
   "execution_count": 39,
   "metadata": {},
   "outputs": [],
   "source": [
    "total['LogisticRegression'].append(result_lr_balanced.round(4))\n",
    "total['LogisticRegression'].append(auc_roc_lr_balanced)\n",
    "total['LogisticRegression'].append(recall_lr_balanced)"
   ]
  },
  {
   "cell_type": "code",
   "execution_count": 40,
   "metadata": {},
   "outputs": [
    {
     "data": {
      "text/plain": [
       "{'DecisionTree': [0.5697, 0.8165, 0.4498, 0.5964, 0.831, 0.6699],\n",
       " 'RandomForest': [0.5897, 0.8484, 0.4641, 0.6294, 0.8579, 0.6866],\n",
       " 'LogisticRegression': [0.3311, 0.7588, 0.2344, 0.4889, 0.7637, 0.6818]}"
      ]
     },
     "execution_count": 40,
     "metadata": {},
     "output_type": "execute_result"
    }
   ],
   "source": [
    "total"
   ]
  },
  {
   "cell_type": "markdown",
   "metadata": {},
   "source": [
    "#### Вывод\n",
    "\n",
    "В целом, заметно, что качество моделей выросло по сравнению с построением моделей без учета дисбаланса классов.\n",
    "\n",
    "Наилучшее значение F1-меры (0.6294) показала модель случайного леса с количеством деревьев = 180 и глубиной дерева = 8, значение AUC-ROC также довольно высоко (0.8579), полнота = 0.6866 - модель уже лучше предсказывает положительные ответы.  \n",
    "\n",
    "У модели логистической регрессии самые низкие значения F1-меры (0.4889), AUC-ROC (0.7637) и полноты (0.6818)."
   ]
  },
  {
   "cell_type": "markdown",
   "metadata": {},
   "source": [
    "### 4.2. Увеличение выборки"
   ]
  },
  {
   "cell_type": "markdown",
   "metadata": {},
   "source": [
    "Суть метода заключается в следующем: необходимо разделить выборку на значения с положительным и отрицательным целевым признаком, скопировать положительные признаки (так как в нашей выборке их меньше), создать новую выборку с увеличенным количеством положительных признаков и перемешать данные.\n",
    "\n",
    "Для удобства создадим функцию:"
   ]
  },
  {
   "cell_type": "code",
   "execution_count": 41,
   "metadata": {},
   "outputs": [
    {
     "name": "stdout",
     "output_type": "stream",
     "text": [
      "(10784, 11)\n",
      "(10784,)\n"
     ]
    }
   ],
   "source": [
    "def upsample(features_train, target_train, repeat):\n",
    "    features_zeros = features_train[target_train == 0]\n",
    "    features_ones = features_train[target_train == 1]\n",
    "    target_zeros = target_train[target_train == 0]\n",
    "    target_ones = target_train[target_train == 1]\n",
    "    features_upsampled = pd.concat([features_zeros] + [features_ones] * repeat)\n",
    "    target_upsampled = pd.concat([target_zeros] + [target_ones] * repeat)\n",
    "    features_upsampled = shuffle(features_upsampled, random_state=12345)\n",
    "    target_upsampled = shuffle(target_upsampled, random_state=12345)\n",
    "\n",
    "    return features_upsampled, target_upsampled \n",
    "\n",
    "features_upsampled, target_upsampled = upsample(features_train, target_train, 5)\n",
    "\n",
    "print(features_upsampled.shape)\n",
    "print(target_upsampled.shape)"
   ]
  },
  {
   "cell_type": "markdown",
   "metadata": {},
   "source": [
    "#### 4.2.1 Решающее дерево"
   ]
  },
  {
   "cell_type": "code",
   "execution_count": 42,
   "metadata": {},
   "outputs": [
    {
     "name": "stdout",
     "output_type": "stream",
     "text": [
      "Наилучшее значение F1: 0.5583\n",
      "Наилучшая глубина дерева: 3\n",
      "CPU times: user 424 ms, sys: 3.06 ms, total: 427 ms\n",
      "Wall time: 427 ms\n"
     ]
    }
   ],
   "source": [
    "%%time\n",
    "\n",
    "best_model = None\n",
    "best_result = 0\n",
    "best_depth = 0\n",
    "for depth in range(1, 20):\n",
    "    model = DecisionTreeClassifier(random_state=12345, max_depth=depth)\n",
    "    model.fit(features_upsampled, target_upsampled)\n",
    "    predicted_valid = model.predict(features_valid)\n",
    "    result = f1_score(target_valid, predicted_valid)\n",
    "    if result > best_result:\n",
    "        best_model = model\n",
    "        best_result = result\n",
    "        best_depth = depth\n",
    "\n",
    "print('Наилучшее значение F1:', best_result.round(4))\n",
    "print('Наилучшая глубина дерева:', best_depth)"
   ]
  },
  {
   "cell_type": "code",
   "execution_count": 43,
   "metadata": {},
   "outputs": [
    {
     "name": "stdout",
     "output_type": "stream",
     "text": [
      "AUC-ROC: 0.7992\n",
      "Полнота: 0.6531\n"
     ]
    }
   ],
   "source": [
    "model_dt_up = DecisionTreeClassifier(random_state=12345, max_depth=3)\n",
    "model_dt_up.fit(features_upsampled, target_upsampled)\n",
    "predicted_valid = model_dt_up.predict(features_valid)\n",
    "\n",
    "probabilities_valid = model_dt_up.predict_proba(features_valid)\n",
    "probabilities_one_valid = probabilities_valid[:, 1]\n",
    "\n",
    "auc_roc_dt_up = roc_auc_score(target_valid, probabilities_one_valid).round(4)\n",
    "recall_dt_up = recall_score(target_valid, predicted_valid).round(4)\n",
    "\n",
    "print('AUC-ROC:', auc_roc_dt_up)\n",
    "print('Полнота:', recall_dt_up)"
   ]
  },
  {
   "cell_type": "code",
   "execution_count": 44,
   "metadata": {},
   "outputs": [],
   "source": [
    "total['DecisionTree'].append(best_result.round(4))\n",
    "total['DecisionTree'].append(auc_roc_dt_up)\n",
    "total['DecisionTree'].append(recall_dt_up)"
   ]
  },
  {
   "cell_type": "markdown",
   "metadata": {},
   "source": [
    "#### 4.2.2 Случайный лес"
   ]
  },
  {
   "cell_type": "code",
   "execution_count": 45,
   "metadata": {},
   "outputs": [
    {
     "name": "stdout",
     "output_type": "stream",
     "text": [
      "Наилучшее значение F1: 0.6075\n",
      "Количество деревьев: 70\n",
      "Глубина дерева: 8\n",
      "CPU times: user 17.5 s, sys: 152 ms, total: 17.6 s\n",
      "Wall time: 17.7 s\n"
     ]
    }
   ],
   "source": [
    "%%time\n",
    "\n",
    "best_model = None\n",
    "best_result = 0\n",
    "for depth in range(1, 10):\n",
    "    for est in range(10, 100, 10):\n",
    "        model = RandomForestClassifier(random_state=12345, n_estimators=est, max_depth=depth)\n",
    "        model.fit(features_upsampled, target_upsampled)\n",
    "        predicted_valid = model.predict(features_valid)\n",
    "        result = f1_score(target_valid, predicted_valid)\n",
    "        if result > best_result:\n",
    "            best_model = model\n",
    "            best_result = result\n",
    "            best_est = est\n",
    "            best_depth = depth\n",
    "\n",
    "print('Наилучшее значение F1:', best_result.round(4))\n",
    "print('Количество деревьев:', best_est)\n",
    "print('Глубина дерева:', best_depth)"
   ]
  },
  {
   "cell_type": "code",
   "execution_count": 46,
   "metadata": {},
   "outputs": [
    {
     "name": "stdout",
     "output_type": "stream",
     "text": [
      "AUC-ROC: 0.8525\n",
      "Полнота: 0.7703\n"
     ]
    }
   ],
   "source": [
    "model_rf_up = RandomForestClassifier(random_state=12345, n_estimators=70, max_depth=8)\n",
    "model_rf_up.fit(features_upsampled, target_upsampled)\n",
    "predicted_valid = model_rf_up.predict(features_valid)\n",
    "\n",
    "probabilities_valid = model_rf_up.predict_proba(features_valid)\n",
    "probabilities_one_valid = probabilities_valid[:, 1]\n",
    "\n",
    "auc_roc_rf_up = roc_auc_score(target_valid, probabilities_one_valid).round(4)\n",
    "recall_rf_up = recall_score(target_valid, predicted_valid).round(4)\n",
    "\n",
    "print('AUC-ROC:', auc_roc_rf_up)\n",
    "print('Полнота:', recall_rf_up)"
   ]
  },
  {
   "cell_type": "code",
   "execution_count": 47,
   "metadata": {},
   "outputs": [],
   "source": [
    "total['RandomForest'].append(best_result.round(4))\n",
    "total['RandomForest'].append(auc_roc_rf_up)\n",
    "total['RandomForest'].append(recall_rf_up)"
   ]
  },
  {
   "cell_type": "markdown",
   "metadata": {},
   "source": [
    "#### 4.2.3 Логистическая регрессия"
   ]
  },
  {
   "cell_type": "code",
   "execution_count": 48,
   "metadata": {},
   "outputs": [
    {
     "name": "stdout",
     "output_type": "stream",
     "text": [
      "Наилучшее значение F1: 0.4847\n",
      "AUC-ROC: 0.7643\n",
      "Полнота: 0.7584\n",
      "CPU times: user 17.6 ms, sys: 1.05 ms, total: 18.7 ms\n",
      "Wall time: 18 ms\n"
     ]
    }
   ],
   "source": [
    "%%time\n",
    "\n",
    "model_lr_up = LogisticRegression(random_state=12345, solver='liblinear')\n",
    "model_lr_up.fit(features_upsampled, target_upsampled) \n",
    "predicted_valid = model_lr_up.predict(features_valid)\n",
    "\n",
    "result_lr_up = f1_score(target_valid, predicted_valid)\n",
    "\n",
    "probabilities_valid = model_lr_up.predict_proba(features_valid)\n",
    "probabilities_one_valid = probabilities_valid[:, 1]\n",
    "\n",
    "auc_roc_lr_up = roc_auc_score(target_valid, probabilities_one_valid).round(4)\n",
    "recall_lr_up = recall_score(target_valid, predicted_valid).round(4)\n",
    "\n",
    "print('Наилучшее значение F1:', result_lr_up.round(4))\n",
    "print(\"AUC-ROC:\", auc_roc_lr_up)\n",
    "print('Полнота:', recall_lr_up)"
   ]
  },
  {
   "cell_type": "code",
   "execution_count": 49,
   "metadata": {},
   "outputs": [],
   "source": [
    "total['LogisticRegression'].append(result_lr_up.round(4))\n",
    "total['LogisticRegression'].append(auc_roc_lr_up)\n",
    "total['LogisticRegression'].append(recall_lr_up)"
   ]
  },
  {
   "cell_type": "markdown",
   "metadata": {},
   "source": [
    "#### Вывод\n",
    "\n",
    "В целом, качество моделей довольно высокое, но оно немного ниже, чем при применении метода взвешивания классов.\n",
    "\n",
    "Наилучшее значение F1-меры (0.6075) показала модель случайного леса с количеством деревьев = 70 и глубиной дерева = 8, значение AUC-ROC также довольно высоко (0.8525), полнота = 0.7703. Данная модель лучше всего определяет положительные ответы. \n",
    "\n",
    "У модели логистической регрессии самые низкие значения F1-меры (0.4847), AUC-ROC (0.7643) и полноты (0.7584)."
   ]
  },
  {
   "cell_type": "markdown",
   "metadata": {},
   "source": [
    "### 3.3. Уменьшение выборки"
   ]
  },
  {
   "cell_type": "markdown",
   "metadata": {},
   "source": [
    "Суть метода заключается в следующем: необходимо разделить выборку на значения с положительным и отрицательным целевым признаком, удалить часть отрицательных признаков (так как в нашей выборке их больше), создать новую выборку с уменьшенным количеством отрицательных признаков и перемешать данные.\n",
    "Для удобства создадим функцию:"
   ]
  },
  {
   "cell_type": "code",
   "execution_count": 50,
   "metadata": {},
   "outputs": [
    {
     "name": "stdout",
     "output_type": "stream",
     "text": [
      "(1676, 11)\n",
      "(1676,)\n"
     ]
    }
   ],
   "source": [
    "def downsample(features_train, target_train, fraction):\n",
    "    features_zeros = features_train[target_train == 0]\n",
    "    features_ones = features_train[target_train == 1]\n",
    "    target_zeros = target_train[target_train == 0]\n",
    "    target_ones = target_train[target_train == 1]\n",
    "    features_downsampled = pd.concat([features_zeros.sample(frac=fraction, random_state=12345)] + [features_ones])\n",
    "    target_downsampled = pd.concat([target_zeros.sample(frac=fraction, random_state=12345)] + [target_ones])\n",
    "    features_downsampled = shuffle(features_downsampled, random_state=12345)\n",
    "    target_downsampled = shuffle(target_downsampled, random_state=12345)\n",
    "\n",
    "    return features_downsampled, target_downsampled \n",
    "\n",
    "features_downsampled, target_downsampled = downsample(features_train, target_train, 0.1)\n",
    "\n",
    "print(features_downsampled.shape)\n",
    "print(target_downsampled.shape)"
   ]
  },
  {
   "cell_type": "markdown",
   "metadata": {},
   "source": [
    "#### 4.3.1 Решающее дерево"
   ]
  },
  {
   "cell_type": "code",
   "execution_count": 51,
   "metadata": {},
   "outputs": [
    {
     "name": "stdout",
     "output_type": "stream",
     "text": [
      "Наилучшее значение F1: 0.4955\n",
      "Наилучшая глубина дерева: 5\n"
     ]
    }
   ],
   "source": [
    "best_model = None\n",
    "best_result = 0\n",
    "best_depth = 0\n",
    "for depth in range(1, 20):\n",
    "    model = DecisionTreeClassifier(random_state=12345, max_depth=depth)\n",
    "    model.fit(features_downsampled, target_downsampled)\n",
    "    predicted_valid = model.predict(features_valid)\n",
    "    result = f1_score(target_valid, predicted_valid)\n",
    "    if result > best_result:\n",
    "        best_model = model\n",
    "        best_result = result\n",
    "        best_depth = depth\n",
    "\n",
    "print('Наилучшее значение F1:', best_result.round(4))\n",
    "print('Наилучшая глубина дерева:', best_depth)"
   ]
  },
  {
   "cell_type": "code",
   "execution_count": 52,
   "metadata": {},
   "outputs": [
    {
     "name": "stdout",
     "output_type": "stream",
     "text": [
      "AUC-ROC: 0.8149\n",
      "Полнота: 0.8636\n"
     ]
    }
   ],
   "source": [
    "model_dt_down = DecisionTreeClassifier(random_state=12345, max_depth=5)\n",
    "model_dt_down.fit(features_downsampled, target_downsampled)\n",
    "predicted_valid = model_dt_down.predict(features_valid)\n",
    "\n",
    "probabilities_valid = model_dt_down.predict_proba(features_valid)\n",
    "probabilities_one_valid = probabilities_valid[:, 1]\n",
    "\n",
    "auc_roc_dt_down = roc_auc_score(target_valid, probabilities_one_valid).round(4)\n",
    "recall_dt_down = recall_score(target_valid, predicted_valid).round(4)\n",
    "\n",
    "print('AUC-ROC:', auc_roc_dt_down)\n",
    "print('Полнота:', recall_dt_down)"
   ]
  },
  {
   "cell_type": "code",
   "execution_count": 53,
   "metadata": {},
   "outputs": [],
   "source": [
    "total['DecisionTree'].append(best_result.round(4))\n",
    "total['DecisionTree'].append(auc_roc_dt_down)\n",
    "total['DecisionTree'].append(recall_dt_down)"
   ]
  },
  {
   "cell_type": "markdown",
   "metadata": {},
   "source": [
    "#### 4.3.2 Случайный лес"
   ]
  },
  {
   "cell_type": "code",
   "execution_count": 54,
   "metadata": {},
   "outputs": [
    {
     "name": "stdout",
     "output_type": "stream",
     "text": [
      "Наилучшее значение F1: 0.4755\n",
      "Количество деревьев: 51\n",
      "Глубина дерева: 16\n"
     ]
    }
   ],
   "source": [
    "best_model = None\n",
    "best_result = 0\n",
    "for depth in range(1, 20):\n",
    "    for est in range(1, 80, 10):\n",
    "        model = RandomForestClassifier(random_state=12345, n_estimators=est, max_depth=depth)\n",
    "        model.fit(features_downsampled, target_downsampled)\n",
    "        predicted_valid = model.predict(features_valid)\n",
    "        result = f1_score(target_valid, predicted_valid)\n",
    "        if result > best_result:\n",
    "            best_model = model\n",
    "            best_result = result\n",
    "            best_est = est\n",
    "            best_depth = depth\n",
    "\n",
    "print('Наилучшее значение F1:', best_result.round(4))\n",
    "print('Количество деревьев:', best_est)\n",
    "print('Глубина дерева:', best_depth)"
   ]
  },
  {
   "cell_type": "code",
   "execution_count": 55,
   "metadata": {},
   "outputs": [
    {
     "name": "stdout",
     "output_type": "stream",
     "text": [
      "AUC-ROC: 0.817\n",
      "Полнота: 0.8923\n"
     ]
    }
   ],
   "source": [
    "model_rf_down = RandomForestClassifier(random_state=12345, n_estimators=51, max_depth=16)\n",
    "model_rf_down.fit(features_downsampled, target_downsampled)\n",
    "predicted_valid = model_rf_down.predict(features_valid)\n",
    "\n",
    "probabilities_valid = model_rf_down.predict_proba(features_valid)\n",
    "probabilities_one_valid = probabilities_valid[:, 1]\n",
    "\n",
    "auc_roc_rf_down = roc_auc_score(target_valid, probabilities_one_valid).round(4)\n",
    "recall_rf_down = recall_score(target_valid, predicted_valid).round(4)\n",
    "\n",
    "print('AUC-ROC:', auc_roc_rf_down)\n",
    "print('Полнота:', recall_rf_down)"
   ]
  },
  {
   "cell_type": "code",
   "execution_count": 56,
   "metadata": {},
   "outputs": [],
   "source": [
    "total['RandomForest'].append(best_result.round(4))\n",
    "total['RandomForest'].append(auc_roc_rf_down)\n",
    "total['RandomForest'].append(recall_rf_down)"
   ]
  },
  {
   "cell_type": "markdown",
   "metadata": {},
   "source": [
    "#### 4.3.3 Логистическая регрессия"
   ]
  },
  {
   "cell_type": "code",
   "execution_count": 57,
   "metadata": {},
   "outputs": [
    {
     "name": "stdout",
     "output_type": "stream",
     "text": [
      "Наилучшее значение F1: 0.4308\n",
      "AUC-ROC: 0.7584\n",
      "Полнота: 0.9091\n"
     ]
    }
   ],
   "source": [
    "model_lr_down = LogisticRegression(random_state=12345, solver='liblinear')\n",
    "model_lr_down.fit(features_downsampled, target_downsampled) \n",
    "predicted_valid = model_lr_down.predict(features_valid)\n",
    "\n",
    "result_lr_down = f1_score(target_valid, predicted_valid)\n",
    "\n",
    "probabilities_valid = model_lr_down.predict_proba(features_valid)\n",
    "probabilities_one_valid = probabilities_valid[:, 1]\n",
    "\n",
    "auc_roc_lr_down = roc_auc_score(target_valid, probabilities_one_valid).round(4)\n",
    "recall_lr_down = recall_score(target_valid, predicted_valid).round(4)\n",
    "\n",
    "print('Наилучшее значение F1:', result_lr_down.round(4))\n",
    "print(\"AUC-ROC:\", auc_roc_lr_down)\n",
    "print('Полнота:', recall_lr_down)"
   ]
  },
  {
   "cell_type": "code",
   "execution_count": 58,
   "metadata": {},
   "outputs": [],
   "source": [
    "total['LogisticRegression'].append(result_lr_up.round(4))\n",
    "total['LogisticRegression'].append(auc_roc_lr_up)\n",
    "total['LogisticRegression'].append(recall_lr_up)"
   ]
  },
  {
   "cell_type": "markdown",
   "metadata": {},
   "source": [
    "#### Вывод\n",
    "\n",
    "Качество моделей оказалось самым низким из трех использованных методов.\n",
    "\n",
    "Наилучшее значение F1-меры (0.4955) показала модель решающего дерева с глубиной дерева = 5, значение AUC-ROC = 0.8149, полнота = 0.8636.\n",
    "\n",
    "Значения полноты у моделей очень высокие. Тем не менее, значение F1-меры низкое, что говорит об отсутствии баланса между точностью и полнотой.\n",
    "\n",
    "У модели логистической регрессии самые низкие значения F1-меры (0.4847), AUC-ROC (0.7643) и полноты (0.7584)."
   ]
  },
  {
   "cell_type": "markdown",
   "metadata": {},
   "source": [
    "Посмотрим на таблицу с результатами."
   ]
  },
  {
   "cell_type": "code",
   "execution_count": 59,
   "metadata": {},
   "outputs": [
    {
     "data": {
      "text/html": [
       "<div>\n",
       "<style scoped>\n",
       "    .dataframe tbody tr th:only-of-type {\n",
       "        vertical-align: middle;\n",
       "    }\n",
       "\n",
       "    .dataframe tbody tr th {\n",
       "        vertical-align: top;\n",
       "    }\n",
       "\n",
       "    .dataframe thead th {\n",
       "        text-align: right;\n",
       "    }\n",
       "</style>\n",
       "<table border=\"1\" class=\"dataframe\">\n",
       "  <thead>\n",
       "    <tr style=\"text-align: right;\">\n",
       "      <th></th>\n",
       "      <th>DecisionTree</th>\n",
       "      <th>RandomForest</th>\n",
       "      <th>LogisticRegression</th>\n",
       "    </tr>\n",
       "  </thead>\n",
       "  <tbody>\n",
       "    <tr>\n",
       "      <th>F1 (без учета дисбаланса)</th>\n",
       "      <td>0.5697</td>\n",
       "      <td>0.5897</td>\n",
       "      <td>0.3311</td>\n",
       "    </tr>\n",
       "    <tr>\n",
       "      <th>AUC_ROC (без учета дисбаланса)</th>\n",
       "      <td>0.8165</td>\n",
       "      <td>0.8484</td>\n",
       "      <td>0.7588</td>\n",
       "    </tr>\n",
       "    <tr>\n",
       "      <th>Recall (без учета дисбаланса)</th>\n",
       "      <td>0.4498</td>\n",
       "      <td>0.4641</td>\n",
       "      <td>0.2344</td>\n",
       "    </tr>\n",
       "    <tr>\n",
       "      <th>F1 (взвешивание классов)</th>\n",
       "      <td>0.5964</td>\n",
       "      <td>0.6294</td>\n",
       "      <td>0.4889</td>\n",
       "    </tr>\n",
       "    <tr>\n",
       "      <th>AUC_ROC (взвешивание классов)</th>\n",
       "      <td>0.8310</td>\n",
       "      <td>0.8579</td>\n",
       "      <td>0.7637</td>\n",
       "    </tr>\n",
       "    <tr>\n",
       "      <th>Recall (взвешивание классов)</th>\n",
       "      <td>0.6699</td>\n",
       "      <td>0.6866</td>\n",
       "      <td>0.6818</td>\n",
       "    </tr>\n",
       "    <tr>\n",
       "      <th>F1 (увеличение выборки)</th>\n",
       "      <td>0.5583</td>\n",
       "      <td>0.6075</td>\n",
       "      <td>0.4847</td>\n",
       "    </tr>\n",
       "    <tr>\n",
       "      <th>AUC_ROC (увеличение выборки)</th>\n",
       "      <td>0.7992</td>\n",
       "      <td>0.8525</td>\n",
       "      <td>0.7643</td>\n",
       "    </tr>\n",
       "    <tr>\n",
       "      <th>Recall (увеличение выборки)</th>\n",
       "      <td>0.6531</td>\n",
       "      <td>0.7703</td>\n",
       "      <td>0.7584</td>\n",
       "    </tr>\n",
       "    <tr>\n",
       "      <th>F1 (уменьшение выборки)</th>\n",
       "      <td>0.4955</td>\n",
       "      <td>0.4755</td>\n",
       "      <td>0.4847</td>\n",
       "    </tr>\n",
       "    <tr>\n",
       "      <th>AUC_ROC (уменьшение выборки)</th>\n",
       "      <td>0.8149</td>\n",
       "      <td>0.8170</td>\n",
       "      <td>0.7643</td>\n",
       "    </tr>\n",
       "    <tr>\n",
       "      <th>Recall (уменьшение выборки)</th>\n",
       "      <td>0.8636</td>\n",
       "      <td>0.8923</td>\n",
       "      <td>0.7584</td>\n",
       "    </tr>\n",
       "  </tbody>\n",
       "</table>\n",
       "</div>"
      ],
      "text/plain": [
       "                                DecisionTree  RandomForest  LogisticRegression\n",
       "F1 (без учета дисбаланса)             0.5697        0.5897              0.3311\n",
       "AUC_ROC (без учета дисбаланса)        0.8165        0.8484              0.7588\n",
       "Recall (без учета дисбаланса)         0.4498        0.4641              0.2344\n",
       "F1 (взвешивание классов)              0.5964        0.6294              0.4889\n",
       "AUC_ROC (взвешивание классов)         0.8310        0.8579              0.7637\n",
       "Recall (взвешивание классов)          0.6699        0.6866              0.6818\n",
       "F1 (увеличение выборки)               0.5583        0.6075              0.4847\n",
       "AUC_ROC (увеличение выборки)          0.7992        0.8525              0.7643\n",
       "Recall (увеличение выборки)           0.6531        0.7703              0.7584\n",
       "F1 (уменьшение выборки)               0.4955        0.4755              0.4847\n",
       "AUC_ROC (уменьшение выборки)          0.8149        0.8170              0.7643\n",
       "Recall (уменьшение выборки)           0.8636        0.8923              0.7584"
      ]
     },
     "execution_count": 59,
     "metadata": {},
     "output_type": "execute_result"
    }
   ],
   "source": [
    "index_list = ['F1 (без учета дисбаланса)',\n",
    "              'AUC_ROC (без учета дисбаланса)',\n",
    "              'Recall (без учета дисбаланса)',\n",
    "              'F1 (взвешивание классов)',\n",
    "              'AUC_ROC (взвешивание классов)',\n",
    "              'Recall (взвешивание классов)',\n",
    "              'F1 (увеличение выборки)',\n",
    "              'AUC_ROC (увеличение выборки)',\n",
    "              'Recall (увеличение выборки)',\n",
    "              'F1 (уменьшение выборки)',\n",
    "              'AUC_ROC (уменьшение выборки)',\n",
    "              'Recall (уменьшение выборки)',]\n",
    "\n",
    "pd.DataFrame(index = index_list, data = total)"
   ]
  },
  {
   "cell_type": "markdown",
   "metadata": {},
   "source": [
    "### Вывод\n",
    "При борьбе с дисбалансом классов были применены 3 метода: взвешивание классов, увеличение выборки и уменьшение выборки. Для каждого из методов были построены три модели: решаюшее дерево, случайный лес и логистическая регрессия. \n",
    "\n",
    "Наилучшее значение F1-меры (0.6294) показала модель случайного леса с количеством деревьев = 180 и глубиной дерева = 8, построенная при применении метода взвешивания классов. Значение AUC-ROC у данной модели также довольно высоко (0.8579), полнота = 0.6866. Данная чуть лучше среднего определяет положительные ответы. \n",
    "\n",
    "Наилучший показатель у модели решающего дерева также показала модель построенная при применении метода взвешивания классов. При глубине дерева = 5, F1-мера = 0.5964, AUC-ROC = 0.8310, полнота = 0.6699.\n",
    "\n",
    "Логистическая регрессия во всех случаях показала самое низкое значение F1-меры.\n",
    "\n",
    "Применяя метод уменьшения выборки все 3 модели показали самые высокие значения полноты, но самые низкие значения F1-меры."
   ]
  },
  {
   "cell_type": "markdown",
   "metadata": {},
   "source": [
    "## 5. Тестирование модели"
   ]
  },
  {
   "cell_type": "markdown",
   "metadata": {},
   "source": [
    "Проверим работоспособность обученной модели на тестовой выборке. \n",
    "\n",
    "Лучшее значение F1-меры показала модель случайного леса с количеством деревьев = 180 и глубиной дерева = 8, построенная при применении метода взвешивания классов. Протестируем ее."
   ]
  },
  {
   "cell_type": "code",
   "execution_count": 60,
   "metadata": {},
   "outputs": [
    {
     "name": "stdout",
     "output_type": "stream",
     "text": [
      "F1: 0.6156\n",
      "AUC-ROC: 0.858\n",
      "Полнота: 0.9091\n"
     ]
    }
   ],
   "source": [
    "model = RandomForestClassifier(random_state=12345, n_estimators=180, max_depth=8, class_weight='balanced')\n",
    "model.fit(features_train, target_train)\n",
    "predicted_test = model.predict(features_test)\n",
    "\n",
    "probabilities_test = model.predict_proba(features_test)\n",
    "probabilities_one_test = probabilities_test[:, 1]\n",
    "\n",
    "auc_roc = roc_auc_score(target_test, probabilities_one_test)\n",
    "recall = recall_score(target_valid, predicted_valid)\n",
    "\n",
    "print('F1:', f1_score(target_test, predicted_test).round(4))\n",
    "print('AUC-ROC:', auc_roc.round(4))\n",
    "print('Полнота:', recall.round(4))"
   ]
  },
  {
   "cell_type": "markdown",
   "metadata": {},
   "source": [
    "Построим ROC-кривую."
   ]
  },
  {
   "cell_type": "code",
   "execution_count": 61,
   "metadata": {},
   "outputs": [
    {
     "data": {
      "image/png": "[encoded data removed]",
      "text/plain": [
       "<Figure size 640x480 with 1 Axes>"
      ]
     },
     "metadata": {},
     "output_type": "display_data"
    }
   ],
   "source": [
    "fpr, tpr, thresholds = roc_curve(target_test, probabilities_one_test)\n",
    "plt.figure()\n",
    "plt.plot(fpr, tpr)\n",
    "plt.plot([0, 1], [0, 1], linestyle='--')\n",
    "plt.xlim([0.0, 1.0])\n",
    "plt.ylim([0.0, 1.0])\n",
    "plt.xlabel('False Positive Rate')\n",
    "plt.ylabel('True Positive Rate')\n",
    "plt.title('ROC-кривая');"
   ]
  },
  {
   "cell_type": "markdown",
   "metadata": {},
   "source": [
    "### Вывод\n",
    "Показатель F1-меры на тестовой выборке = 0.6156. Значение чуть ниже, чем на валидационной выборке, но все же довольно высоко и соответствует условию поставленной задачи.\n",
    "\n",
    "Полнота = 0.9091, что говорит о том, что модель очень хорошо предсказывает положительньые ответы.\n",
    "\n",
    "AUC-ROC случайной модели = 0.5. AUC-ROC нашей модели = 0.858. Довольно высокий показатель, можно с уверенностью сказать, что модель предсказывает лучше, чем случайно построенная и может использоваться для предсказания поведения клиентов."
   ]
  },
  {
   "cell_type": "markdown",
   "metadata": {},
   "source": [
    "## Общий вывод\n",
    "\n",
    "Были изучены данные о клиентах «Бета-Банка». На основе данных была построена модель, которая предсказывает, уйдет клиент из банка в ближайшее время или нет.\n",
    "\n",
    "Данные были подготовлены к работе:\n",
    "- Проверены на дубликаты и мультиколлинеарность. \n",
    "- Названия столбцов приведены к змеиному регистру.\n",
    "- Пропуски в столбце `tenure` заполнены медианным значением, тип данных изменен на целочисленный.\n",
    "- Удалены признаки, которые не понадобятся нам для обучения модели.\n",
    "\n",
    "Исходные данные были разделены на обучающую, валидационную и тестовую выборки в соотношении 3:1:1. Был выделен целевой признак `exited`.\n",
    "\n",
    "Количественные признаки имели разный масштаб, поэтому они были масштабированы, чтобы модель не принимала значения с большими значениями за самые важные.\n",
    "\n",
    "Так как перед нами стояла задача классификации, для построения моделей мы использовали три алгоритма: \n",
    "- Решающее дерево;\n",
    "- Случайный лес;\n",
    "- Логистическая регрессия. \n",
    "\n",
    "Было проведено обучение моделей без учета дисбаланса классов. Для оценки качества моделей были использованы метрики Recall, F1-мера и AUC-ROC. Результаты оказались следующими:\n",
    "- Наилучшее значение F1-меры показала модель случайного леса (0.5897), тем не менее эта модель работает медленнее всех.\n",
    "- Быстрее всего работает модель логистической регрессии, при этом выдавая самое низкое значение F1-меры.\n",
    "\n",
    "\n",
    "Так как в целевом признаке присутствовал дисбаланс, мы применили следующие методы борьбы с дисбалансом: взвешивание классов, увеличение выборки, уменьшение выборки. \n",
    "\n",
    "Применяя каждый метод, мы снова построили модели с подбором гиперпараметров: решающее дерево, случайный лес и логистическую регрессию. Для оценки качества моделей также использовали Recall, F1-меру и AUC-ROC.\n",
    "\n",
    "Наилучшее значение F1-меры (0.6294) показала **модель случайного леса** с количеством деревьев = 180 и глубиной дерева = 8, построенная при применении **метода взвешивания классов**. Значение AUC-ROC у данной модели также довольно высоко (0.8579), полнота = 0.6866 - модель неплохо предсказывает положительные ответы.  \n",
    "\n",
    "Так как, исходя из подсчетов банковских маркетологов, принято решение сконцентрироваться на том, чтобы сохранять текущих клиентов, а не привлекать новых, рекомендуется заняться разработкой продуктов, которые смогут удержать клиентов в данном банке или, например, предложить более лояльные условия по кредиту или накопительным счетам. Чтобы не понести убытки и не раздавать скидки абсолютно всем клиентам, а сконцентрироваться именно на тех клиентах, которые думают об уходе из банка, рекомендуется использовать нашу модель. \n",
    "\n",
    "Для предсказания «Бета-Банком» поведения клиентов рекомендована следующая модель:\n",
    "- модель случайного леса;\n",
    "- количество деревьев = 180; \n",
    "- глубина дерева = 8;\n",
    "- при дисбалансе целевого признака, рекомендуется использовать метод взвешивания классов.\n",
    "F1-меры на тестовой выборке = 0.6156, что выше заданного условием задачи значения (0.59).\n",
    "Значение полноты = 0.9091, что говорит о том, что модель научилась хорошо предсказывать положительные ответы и довольно точно может определить клиента, который собирается в ближайшее время уйти из банка."
   ]
  }
 ],
 "metadata": {
  "ExecuteTimeLog": [
   {
    "duration": 1658,
    "start_time": "2023-01-17T11:29:47.300Z"
   },
   {
    "duration": 80,
    "start_time": "2023-01-17T11:29:49.605Z"
   },
   {
    "duration": 18,
    "start_time": "2023-01-17T11:29:50.615Z"
   },
   {
    "duration": 13,
    "start_time": "2023-01-17T11:29:55.949Z"
   },
   {
    "duration": 44,
    "start_time": "2023-01-17T11:30:07.465Z"
   },
   {
    "duration": 14,
    "start_time": "2023-01-17T11:38:53.502Z"
   },
   {
    "duration": 16,
    "start_time": "2023-01-17T11:53:39.422Z"
   },
   {
    "duration": 1540,
    "start_time": "2023-01-17T11:53:57.437Z"
   },
   {
    "duration": 42,
    "start_time": "2023-01-17T11:53:58.980Z"
   },
   {
    "duration": 24,
    "start_time": "2023-01-17T11:53:59.024Z"
   },
   {
    "duration": 16,
    "start_time": "2023-01-17T11:53:59.257Z"
   },
   {
    "duration": 41,
    "start_time": "2023-01-17T11:54:02.476Z"
   },
   {
    "duration": 15,
    "start_time": "2023-01-17T11:54:03.672Z"
   },
   {
    "duration": 4,
    "start_time": "2023-01-17T12:22:22.867Z"
   },
   {
    "duration": 7,
    "start_time": "2023-01-17T12:22:23.968Z"
   },
   {
    "duration": 116,
    "start_time": "2023-01-17T12:22:33.484Z"
   },
   {
    "duration": 4,
    "start_time": "2023-01-17T12:22:39.568Z"
   },
   {
    "duration": 1181,
    "start_time": "2023-01-17T12:22:44.879Z"
   },
   {
    "duration": 4,
    "start_time": "2023-01-17T12:22:55.888Z"
   },
   {
    "duration": 13,
    "start_time": "2023-01-17T12:23:20.775Z"
   },
   {
    "duration": 6,
    "start_time": "2023-01-17T12:23:30.926Z"
   },
   {
    "duration": 1535,
    "start_time": "2023-01-17T12:26:55.507Z"
   },
   {
    "duration": 49,
    "start_time": "2023-01-17T12:26:57.044Z"
   },
   {
    "duration": 18,
    "start_time": "2023-01-17T12:26:57.095Z"
   },
   {
    "duration": 13,
    "start_time": "2023-01-17T12:26:58.219Z"
   },
   {
    "duration": 43,
    "start_time": "2023-01-17T12:27:02.198Z"
   },
   {
    "duration": 15,
    "start_time": "2023-01-17T12:27:03.064Z"
   },
   {
    "duration": 6,
    "start_time": "2023-01-17T12:27:07.897Z"
   },
   {
    "duration": 8,
    "start_time": "2023-01-17T12:27:10.881Z"
   },
   {
    "duration": 127,
    "start_time": "2023-01-17T12:27:18.054Z"
   },
   {
    "duration": 15,
    "start_time": "2023-01-17T12:28:09.949Z"
   },
   {
    "duration": 4,
    "start_time": "2023-01-17T12:28:27.508Z"
   },
   {
    "duration": 4,
    "start_time": "2023-01-17T12:28:31.610Z"
   },
   {
    "duration": 7,
    "start_time": "2023-01-17T12:28:36.364Z"
   },
   {
    "duration": 8,
    "start_time": "2023-01-17T12:28:42.142Z"
   },
   {
    "duration": 7,
    "start_time": "2023-01-17T12:28:47.320Z"
   },
   {
    "duration": 1528,
    "start_time": "2023-01-17T12:35:36.924Z"
   },
   {
    "duration": 39,
    "start_time": "2023-01-17T12:35:38.455Z"
   },
   {
    "duration": 31,
    "start_time": "2023-01-17T12:35:38.496Z"
   },
   {
    "duration": 14,
    "start_time": "2023-01-17T12:35:38.529Z"
   },
   {
    "duration": 43,
    "start_time": "2023-01-17T12:35:38.544Z"
   },
   {
    "duration": 16,
    "start_time": "2023-01-17T12:35:43.189Z"
   },
   {
    "duration": 5,
    "start_time": "2023-01-17T12:35:44.744Z"
   },
   {
    "duration": 7,
    "start_time": "2023-01-17T12:35:48.669Z"
   },
   {
    "duration": 5,
    "start_time": "2023-01-17T12:36:10.699Z"
   },
   {
    "duration": 402,
    "start_time": "2023-01-17T12:36:13.108Z"
   },
   {
    "duration": 9,
    "start_time": "2023-01-17T12:36:25.397Z"
   },
   {
    "duration": 6,
    "start_time": "2023-01-17T12:36:32.397Z"
   },
   {
    "duration": 1659,
    "start_time": "2023-01-17T12:36:57.894Z"
   },
   {
    "duration": 39,
    "start_time": "2023-01-17T12:36:59.555Z"
   },
   {
    "duration": 18,
    "start_time": "2023-01-17T12:36:59.596Z"
   },
   {
    "duration": 16,
    "start_time": "2023-01-17T12:36:59.616Z"
   },
   {
    "duration": 56,
    "start_time": "2023-01-17T12:36:59.634Z"
   },
   {
    "duration": 18,
    "start_time": "2023-01-17T12:36:59.692Z"
   },
   {
    "duration": 33,
    "start_time": "2023-01-17T12:36:59.712Z"
   },
   {
    "duration": 7,
    "start_time": "2023-01-17T12:37:04.987Z"
   },
   {
    "duration": 8,
    "start_time": "2023-01-17T12:37:06.858Z"
   },
   {
    "duration": 4,
    "start_time": "2023-01-17T12:37:12.675Z"
   },
   {
    "duration": 9,
    "start_time": "2023-01-17T12:37:14.601Z"
   },
   {
    "duration": 6,
    "start_time": "2023-01-17T12:37:19.358Z"
   },
   {
    "duration": 6,
    "start_time": "2023-01-17T12:37:29.661Z"
   },
   {
    "duration": 5,
    "start_time": "2023-01-17T12:37:38.059Z"
   },
   {
    "duration": 1498,
    "start_time": "2023-01-17T12:37:49.227Z"
   },
   {
    "duration": 39,
    "start_time": "2023-01-17T12:37:50.727Z"
   },
   {
    "duration": 17,
    "start_time": "2023-01-17T12:37:50.768Z"
   },
   {
    "duration": 14,
    "start_time": "2023-01-17T12:37:50.909Z"
   },
   {
    "duration": 46,
    "start_time": "2023-01-17T12:37:51.639Z"
   },
   {
    "duration": 16,
    "start_time": "2023-01-17T12:37:53.949Z"
   },
   {
    "duration": 5,
    "start_time": "2023-01-17T12:37:54.745Z"
   },
   {
    "duration": 6,
    "start_time": "2023-01-17T12:37:55.568Z"
   },
   {
    "duration": 4,
    "start_time": "2023-01-17T12:38:01.949Z"
   },
   {
    "duration": 4,
    "start_time": "2023-01-17T12:38:06.607Z"
   },
   {
    "duration": 116,
    "start_time": "2023-01-17T12:38:47.422Z"
   },
   {
    "duration": 7,
    "start_time": "2023-01-17T12:39:02.734Z"
   },
   {
    "duration": 7,
    "start_time": "2023-01-17T12:39:05.758Z"
   },
   {
    "duration": 12,
    "start_time": "2023-01-17T12:39:17.903Z"
   },
   {
    "duration": 10,
    "start_time": "2023-01-17T12:39:22.055Z"
   },
   {
    "duration": 12,
    "start_time": "2023-01-17T12:39:36.096Z"
   },
   {
    "duration": 10,
    "start_time": "2023-01-17T12:39:40.213Z"
   },
   {
    "duration": 7,
    "start_time": "2023-01-17T12:39:43.743Z"
   },
   {
    "duration": 14,
    "start_time": "2023-01-17T12:40:16.744Z"
   }
  ],
  "kernelspec": {
   "display_name": "Python 3 (ipykernel)",
   "language": "python",
   "name": "python3"
  },
  "language_info": {
   "codemirror_mode": {
    "name": "ipython",
    "version": 3
   },
   "file_extension": ".py",
   "mimetype": "text/x-python",
   "name": "python",
   "nbconvert_exporter": "python",
   "pygments_lexer": "ipython3",
   "version": "3.9.16"
  },
  "toc": {
   "base_numbering": 1,
   "nav_menu": {},
   "number_sections": true,
   "sideBar": true,
   "skip_h1_title": true,
   "title_cell": "Содержание",
   "title_sidebar": "Contents",
   "toc_cell": true,
   "toc_position": {},
   "toc_section_display": true,
   "toc_window_display": false
  }
 },
 "nbformat": 4,
 "nbformat_minor": 2
}
