{
 "cells": [
  {
   "cell_type": "markdown",
   "id": "1edd0de0",
   "metadata": {},
   "source": [
    "# Исследование надёжности заёмщиков"
   ]
  },
  {
   "cell_type": "markdown",
   "id": "7f39f6af",
   "metadata": {},
   "source": [
    "## Этап 1. Получение данных"
   ]
  },
  {
   "cell_type": "markdown",
   "id": "68eb8673",
   "metadata": {},
   "source": [
    "Импорт библиотек."
   ]
  },
  {
   "cell_type": "code",
   "execution_count": 1,
   "id": "a3fd0507",
   "metadata": {},
   "outputs": [],
   "source": [
    "import pandas as pd"
   ]
  },
  {
   "cell_type": "markdown",
   "id": "22c07299",
   "metadata": {},
   "source": [
    "Откроем файл `data.csv`, сохраним его в переменной `df` и посмотрим первые 10 строк таблицы."
   ]
  },
  {
   "cell_type": "code",
   "execution_count": 2,
   "id": "9c6b5c7c",
   "metadata": {},
   "outputs": [
    {
     "data": {
      "text/html": [
       "<div>\n",
       "<style scoped>\n",
       "    .dataframe tbody tr th:only-of-type {\n",
       "        vertical-align: middle;\n",
       "    }\n",
       "\n",
       "    .dataframe tbody tr th {\n",
       "        vertical-align: top;\n",
       "    }\n",
       "\n",
       "    .dataframe thead th {\n",
       "        text-align: right;\n",
       "    }\n",
       "</style>\n",
       "<table border=\"1\" class=\"dataframe\">\n",
       "  <thead>\n",
       "    <tr style=\"text-align: right;\">\n",
       "      <th></th>\n",
       "      <th>children</th>\n",
       "      <th>days_employed</th>\n",
       "      <th>dob_years</th>\n",
       "      <th>education</th>\n",
       "      <th>education_id</th>\n",
       "      <th>family_status</th>\n",
       "      <th>family_status_id</th>\n",
       "      <th>gender</th>\n",
       "      <th>income_type</th>\n",
       "      <th>debt</th>\n",
       "      <th>total_income</th>\n",
       "      <th>purpose</th>\n",
       "    </tr>\n",
       "  </thead>\n",
       "  <tbody>\n",
       "    <tr>\n",
       "      <th>0</th>\n",
       "      <td>1</td>\n",
       "      <td>-8437.673028</td>\n",
       "      <td>42</td>\n",
       "      <td>высшее</td>\n",
       "      <td>0</td>\n",
       "      <td>женат / замужем</td>\n",
       "      <td>0</td>\n",
       "      <td>F</td>\n",
       "      <td>сотрудник</td>\n",
       "      <td>0</td>\n",
       "      <td>253875.639453</td>\n",
       "      <td>покупка жилья</td>\n",
       "    </tr>\n",
       "    <tr>\n",
       "      <th>1</th>\n",
       "      <td>1</td>\n",
       "      <td>-4024.803754</td>\n",
       "      <td>36</td>\n",
       "      <td>среднее</td>\n",
       "      <td>1</td>\n",
       "      <td>женат / замужем</td>\n",
       "      <td>0</td>\n",
       "      <td>F</td>\n",
       "      <td>сотрудник</td>\n",
       "      <td>0</td>\n",
       "      <td>112080.014102</td>\n",
       "      <td>приобретение автомобиля</td>\n",
       "    </tr>\n",
       "    <tr>\n",
       "      <th>2</th>\n",
       "      <td>0</td>\n",
       "      <td>-5623.422610</td>\n",
       "      <td>33</td>\n",
       "      <td>Среднее</td>\n",
       "      <td>1</td>\n",
       "      <td>женат / замужем</td>\n",
       "      <td>0</td>\n",
       "      <td>M</td>\n",
       "      <td>сотрудник</td>\n",
       "      <td>0</td>\n",
       "      <td>145885.952297</td>\n",
       "      <td>покупка жилья</td>\n",
       "    </tr>\n",
       "    <tr>\n",
       "      <th>3</th>\n",
       "      <td>3</td>\n",
       "      <td>-4124.747207</td>\n",
       "      <td>32</td>\n",
       "      <td>среднее</td>\n",
       "      <td>1</td>\n",
       "      <td>женат / замужем</td>\n",
       "      <td>0</td>\n",
       "      <td>M</td>\n",
       "      <td>сотрудник</td>\n",
       "      <td>0</td>\n",
       "      <td>267628.550329</td>\n",
       "      <td>дополнительное образование</td>\n",
       "    </tr>\n",
       "    <tr>\n",
       "      <th>4</th>\n",
       "      <td>0</td>\n",
       "      <td>340266.072047</td>\n",
       "      <td>53</td>\n",
       "      <td>среднее</td>\n",
       "      <td>1</td>\n",
       "      <td>гражданский брак</td>\n",
       "      <td>1</td>\n",
       "      <td>F</td>\n",
       "      <td>пенсионер</td>\n",
       "      <td>0</td>\n",
       "      <td>158616.077870</td>\n",
       "      <td>сыграть свадьбу</td>\n",
       "    </tr>\n",
       "    <tr>\n",
       "      <th>5</th>\n",
       "      <td>0</td>\n",
       "      <td>-926.185831</td>\n",
       "      <td>27</td>\n",
       "      <td>высшее</td>\n",
       "      <td>0</td>\n",
       "      <td>гражданский брак</td>\n",
       "      <td>1</td>\n",
       "      <td>M</td>\n",
       "      <td>компаньон</td>\n",
       "      <td>0</td>\n",
       "      <td>255763.565419</td>\n",
       "      <td>покупка жилья</td>\n",
       "    </tr>\n",
       "    <tr>\n",
       "      <th>6</th>\n",
       "      <td>0</td>\n",
       "      <td>-2879.202052</td>\n",
       "      <td>43</td>\n",
       "      <td>высшее</td>\n",
       "      <td>0</td>\n",
       "      <td>женат / замужем</td>\n",
       "      <td>0</td>\n",
       "      <td>F</td>\n",
       "      <td>компаньон</td>\n",
       "      <td>0</td>\n",
       "      <td>240525.971920</td>\n",
       "      <td>операции с жильем</td>\n",
       "    </tr>\n",
       "    <tr>\n",
       "      <th>7</th>\n",
       "      <td>0</td>\n",
       "      <td>-152.779569</td>\n",
       "      <td>50</td>\n",
       "      <td>СРЕДНЕЕ</td>\n",
       "      <td>1</td>\n",
       "      <td>женат / замужем</td>\n",
       "      <td>0</td>\n",
       "      <td>M</td>\n",
       "      <td>сотрудник</td>\n",
       "      <td>0</td>\n",
       "      <td>135823.934197</td>\n",
       "      <td>образование</td>\n",
       "    </tr>\n",
       "    <tr>\n",
       "      <th>8</th>\n",
       "      <td>2</td>\n",
       "      <td>-6929.865299</td>\n",
       "      <td>35</td>\n",
       "      <td>ВЫСШЕЕ</td>\n",
       "      <td>0</td>\n",
       "      <td>гражданский брак</td>\n",
       "      <td>1</td>\n",
       "      <td>F</td>\n",
       "      <td>сотрудник</td>\n",
       "      <td>0</td>\n",
       "      <td>95856.832424</td>\n",
       "      <td>на проведение свадьбы</td>\n",
       "    </tr>\n",
       "    <tr>\n",
       "      <th>9</th>\n",
       "      <td>0</td>\n",
       "      <td>-2188.756445</td>\n",
       "      <td>41</td>\n",
       "      <td>среднее</td>\n",
       "      <td>1</td>\n",
       "      <td>женат / замужем</td>\n",
       "      <td>0</td>\n",
       "      <td>M</td>\n",
       "      <td>сотрудник</td>\n",
       "      <td>0</td>\n",
       "      <td>144425.938277</td>\n",
       "      <td>покупка жилья для семьи</td>\n",
       "    </tr>\n",
       "  </tbody>\n",
       "</table>\n",
       "</div>"
      ],
      "text/plain": [
       "   children  days_employed  dob_years education  education_id  \\\n",
       "0         1   -8437.673028         42    высшее             0   \n",
       "1         1   -4024.803754         36   среднее             1   \n",
       "2         0   -5623.422610         33   Среднее             1   \n",
       "3         3   -4124.747207         32   среднее             1   \n",
       "4         0  340266.072047         53   среднее             1   \n",
       "5         0    -926.185831         27    высшее             0   \n",
       "6         0   -2879.202052         43    высшее             0   \n",
       "7         0    -152.779569         50   СРЕДНЕЕ             1   \n",
       "8         2   -6929.865299         35    ВЫСШЕЕ             0   \n",
       "9         0   -2188.756445         41   среднее             1   \n",
       "\n",
       "      family_status  family_status_id gender income_type  debt   total_income  \\\n",
       "0   женат / замужем                 0      F   сотрудник     0  253875.639453   \n",
       "1   женат / замужем                 0      F   сотрудник     0  112080.014102   \n",
       "2   женат / замужем                 0      M   сотрудник     0  145885.952297   \n",
       "3   женат / замужем                 0      M   сотрудник     0  267628.550329   \n",
       "4  гражданский брак                 1      F   пенсионер     0  158616.077870   \n",
       "5  гражданский брак                 1      M   компаньон     0  255763.565419   \n",
       "6   женат / замужем                 0      F   компаньон     0  240525.971920   \n",
       "7   женат / замужем                 0      M   сотрудник     0  135823.934197   \n",
       "8  гражданский брак                 1      F   сотрудник     0   95856.832424   \n",
       "9   женат / замужем                 0      M   сотрудник     0  144425.938277   \n",
       "\n",
       "                      purpose  \n",
       "0               покупка жилья  \n",
       "1     приобретение автомобиля  \n",
       "2               покупка жилья  \n",
       "3  дополнительное образование  \n",
       "4             сыграть свадьбу  \n",
       "5               покупка жилья  \n",
       "6           операции с жильем  \n",
       "7                 образование  \n",
       "8       на проведение свадьбы  \n",
       "9     покупка жилья для семьи  "
      ]
     },
     "execution_count": 2,
     "metadata": {},
     "output_type": "execute_result"
    }
   ],
   "source": [
    "df = pd.read_csv('data.csv')\n",
    "df.head(10)"
   ]
  },
  {
   "cell_type": "markdown",
   "id": "1365a114",
   "metadata": {},
   "source": [
    "Посмотрим общую информацию о данных таблицы `df`."
   ]
  },
  {
   "cell_type": "code",
   "execution_count": 3,
   "id": "a9ec24db",
   "metadata": {},
   "outputs": [
    {
     "name": "stdout",
     "output_type": "stream",
     "text": [
      "<class 'pandas.core.frame.DataFrame'>\n",
      "RangeIndex: 21525 entries, 0 to 21524\n",
      "Data columns (total 12 columns):\n",
      " #   Column            Non-Null Count  Dtype  \n",
      "---  ------            --------------  -----  \n",
      " 0   children          21525 non-null  int64  \n",
      " 1   days_employed     19351 non-null  float64\n",
      " 2   dob_years         21525 non-null  int64  \n",
      " 3   education         21525 non-null  object \n",
      " 4   education_id      21525 non-null  int64  \n",
      " 5   family_status     21525 non-null  object \n",
      " 6   family_status_id  21525 non-null  int64  \n",
      " 7   gender            21525 non-null  object \n",
      " 8   income_type       21525 non-null  object \n",
      " 9   debt              21525 non-null  int64  \n",
      " 10  total_income      19351 non-null  float64\n",
      " 11  purpose           21525 non-null  object \n",
      "dtypes: float64(2), int64(5), object(5)\n",
      "memory usage: 2.0+ MB\n"
     ]
    }
   ],
   "source": [
    "df.info()"
   ]
  },
  {
   "cell_type": "markdown",
   "id": "e9bbc37a",
   "metadata": {},
   "source": [
    "Всего в таблице 12 столбцов.\n",
    "\n",
    "Разберём, какие в `df` столбцы и какую информацию они содержат:\n",
    "- `children` — количество детей в семье\n",
    "- `days_employed` — общий трудовой стаж в днях\n",
    "- `dob_years` — возраст клиента в годах\n",
    "- `education` — уровень образования клиента\n",
    "- `education_id` — идентификатор уровня образования\n",
    "- `family_status` — семейное положение\n",
    "- `family_status_id` — идентификатор семейного положения\n",
    "- `gender` — пол клиента\n",
    "- `income_type` — тип занятости\n",
    "- `debt` — имел ли задолженность по возврату кредитов\n",
    "- `total_income` — ежемесячный доход\n",
    "- `purpose` — цель получения кредита\n",
    "\n",
    "### Выводы\n",
    "\n",
    "Первое представление о данных получено. Можно сделать следующие выводы:\n",
    "\n",
    "- Количество значений в столбцах различается. Это говорит о том, что в данных есть пропущенные значения.\n",
    "- В столбце `days_employed` наблюдаются аномалии - отрицательное количество дней трудового стажа, необходимо избавиться от отрицательных значений.\n",
    "- В столбце `education` содержатся одинаковые записи с разным регистром, необходимо привести данные к единообразию.\n",
    "- В столбце `purpose` присутствуют данные с близкими по смыслу значениями, необходимо привести данные к единообразию."
   ]
  },
  {
   "cell_type": "markdown",
   "id": "bd089b02",
   "metadata": {},
   "source": [
    "## Этап 2. Предобработка данных"
   ]
  },
  {
   "cell_type": "markdown",
   "id": "ff6b2529",
   "metadata": {},
   "source": [
    "### Обработка пропусков"
   ]
  },
  {
   "cell_type": "markdown",
   "id": "a0262d99",
   "metadata": {},
   "source": [
    "Посмотрим, сколько пропусков в каждом столбце."
   ]
  },
  {
   "cell_type": "code",
   "execution_count": 4,
   "id": "adf797d8",
   "metadata": {},
   "outputs": [
    {
     "data": {
      "text/plain": [
       "children               0\n",
       "days_employed       2174\n",
       "dob_years              0\n",
       "education              0\n",
       "education_id           0\n",
       "family_status          0\n",
       "family_status_id       0\n",
       "gender                 0\n",
       "income_type            0\n",
       "debt                   0\n",
       "total_income        2174\n",
       "purpose                0\n",
       "dtype: int64"
      ]
     },
     "execution_count": 4,
     "metadata": {},
     "output_type": "execute_result"
    }
   ],
   "source": [
    "df.isna().sum()"
   ]
  },
  {
   "cell_type": "markdown",
   "id": "c330a1ec",
   "metadata": {},
   "source": [
    "Пропуски имеются в двух столбцах: `days_employed` и `total_income`.\n",
    "\n",
    "Обработаем аномальные значения в столбце `days_employed`. Заменим все отрицательные значения положительными."
   ]
  },
  {
   "cell_type": "code",
   "execution_count": 5,
   "id": "3b355b57",
   "metadata": {},
   "outputs": [],
   "source": [
    "df['days_employed'] = df['days_employed'].abs()"
   ]
  },
  {
   "cell_type": "markdown",
   "id": "1c4c7500",
   "metadata": {},
   "source": [
    "Для каждого типа занятости выведем медианное значение трудового стажа `days_employed` в днях."
   ]
  },
  {
   "cell_type": "code",
   "execution_count": 6,
   "id": "73aabbaa",
   "metadata": {},
   "outputs": [
    {
     "data": {
      "text/plain": [
       "income_type\n",
       "безработный        366413.652744\n",
       "пенсионер          365213.306266\n",
       "в декрете            3296.759962\n",
       "госслужащий          2689.368353\n",
       "сотрудник            1574.202821\n",
       "компаньон            1547.382223\n",
       "студент               578.751554\n",
       "предприниматель       520.848083\n",
       "Name: days_employed, dtype: float64"
      ]
     },
     "execution_count": 6,
     "metadata": {},
     "output_type": "execute_result"
    }
   ],
   "source": [
    "df.groupby('income_type')['days_employed'].median().sort_values(ascending=False)"
   ]
  },
  {
   "cell_type": "markdown",
   "id": "1b54c74a",
   "metadata": {},
   "source": [
    "У двух типов (безработные и пенсионеры) аномально большие значения. Исправить такие значения сложно, поэтому оставим их в таком виде."
   ]
  },
  {
   "cell_type": "markdown",
   "id": "ded1398c",
   "metadata": {},
   "source": [
    "Заполним пропуски в столбце `days_employed` медианными значениями для каждого типа занятости `income_type`."
   ]
  },
  {
   "cell_type": "code",
   "execution_count": 7,
   "id": "5bdcd6a2",
   "metadata": {},
   "outputs": [],
   "source": [
    "for t in df['income_type'].unique():\n",
    "    df.loc[(df['income_type'] == t) & (df['days_employed'].isna()), 'days_employed'] = \\\n",
    "    df.loc[(df['income_type'] == t), 'days_employed'].median()"
   ]
  },
  {
   "cell_type": "markdown",
   "id": "2da3f7e6",
   "metadata": {},
   "source": [
    "Столбец `total_income` хранит данные о доходах. На сумму дохода сильнее всего влияет тип занятости, поэтому заполним пропуски в этом столбце медианным значением по каждому типу из столбца `income_type`."
   ]
  },
  {
   "cell_type": "code",
   "execution_count": 8,
   "id": "6dfa425b",
   "metadata": {},
   "outputs": [],
   "source": [
    "for t in df['income_type'].unique():\n",
    "    df.loc[(df['income_type'] == t) & (df['total_income'].isna()), 'total_income'] = \\\n",
    "    df.loc[(df['income_type'] == t), 'total_income'].median()"
   ]
  },
  {
   "cell_type": "markdown",
   "id": "e9861e44",
   "metadata": {},
   "source": [
    "Убедимся, что в таблице не осталось пропусков."
   ]
  },
  {
   "cell_type": "code",
   "execution_count": 9,
   "id": "3af3586d",
   "metadata": {},
   "outputs": [
    {
     "data": {
      "text/plain": [
       "children            0\n",
       "days_employed       0\n",
       "dob_years           0\n",
       "education           0\n",
       "education_id        0\n",
       "family_status       0\n",
       "family_status_id    0\n",
       "gender              0\n",
       "income_type         0\n",
       "debt                0\n",
       "total_income        0\n",
       "purpose             0\n",
       "dtype: int64"
      ]
     },
     "execution_count": 9,
     "metadata": {},
     "output_type": "execute_result"
    }
   ],
   "source": [
    "df.isna().sum()"
   ]
  },
  {
   "cell_type": "markdown",
   "id": "16486843",
   "metadata": {},
   "source": [
    "### Обработка аномальных значений"
   ]
  },
  {
   "cell_type": "markdown",
   "id": "a74bf306",
   "metadata": {},
   "source": [
    "Выведем перечень уникальных значений столбца `children` и посмотрим на распределение данных по категориям. "
   ]
  },
  {
   "cell_type": "code",
   "execution_count": 10,
   "id": "f46996df",
   "metadata": {},
   "outputs": [
    {
     "data": {
      "text/plain": [
       " 0     14149\n",
       " 1      4818\n",
       " 2      2055\n",
       " 3       330\n",
       " 20       76\n",
       "-1        47\n",
       " 4        41\n",
       " 5         9\n",
       "Name: children, dtype: int64"
      ]
     },
     "execution_count": 10,
     "metadata": {},
     "output_type": "execute_result"
    }
   ],
   "source": [
    "df['children'].value_counts()"
   ]
  },
  {
   "cell_type": "markdown",
   "id": "ce0cfe20",
   "metadata": {},
   "source": [
    "В данных присутствуют аномальные значения, например, 20 и -1. Предположим, что в данных ошибка и выполним следующие действия: \n",
    "- заменим `20` на `2`. \n",
    "- заменим `-1` на `1`."
   ]
  },
  {
   "cell_type": "code",
   "execution_count": 11,
   "id": "744176eb",
   "metadata": {},
   "outputs": [],
   "source": [
    "df['children'] = df['children'].replace(20, 2)\n",
    "df['children'] = df['children'].replace(-1, 1)"
   ]
  },
  {
   "cell_type": "markdown",
   "id": "849fe68b",
   "metadata": {},
   "source": [
    "Убедимся, что аномальные значения в столбце `children` заменены. "
   ]
  },
  {
   "cell_type": "code",
   "execution_count": 12,
   "id": "b132d6e5",
   "metadata": {},
   "outputs": [
    {
     "data": {
      "text/plain": [
       "0    14149\n",
       "1     4865\n",
       "2     2131\n",
       "3      330\n",
       "4       41\n",
       "5        9\n",
       "Name: children, dtype: int64"
      ]
     },
     "execution_count": 12,
     "metadata": {},
     "output_type": "execute_result"
    }
   ],
   "source": [
    "df['children'].value_counts()"
   ]
  },
  {
   "cell_type": "markdown",
   "id": "c4db94cd",
   "metadata": {},
   "source": [
    "Выведем перечень уникальных значений столбца `dob_years`."
   ]
  },
  {
   "cell_type": "code",
   "execution_count": 13,
   "id": "c5dc897f",
   "metadata": {},
   "outputs": [
    {
     "data": {
      "text/plain": [
       "array([ 0, 19, 20, 21, 22, 23, 24, 25, 26, 27, 28, 29, 30, 31, 32, 33, 34,\n",
       "       35, 36, 37, 38, 39, 40, 41, 42, 43, 44, 45, 46, 47, 48, 49, 50, 51,\n",
       "       52, 53, 54, 55, 56, 57, 58, 59, 60, 61, 62, 63, 64, 65, 66, 67, 68,\n",
       "       69, 70, 71, 72, 73, 74, 75])"
      ]
     },
     "execution_count": 13,
     "metadata": {},
     "output_type": "execute_result"
    }
   ],
   "source": [
    "df['dob_years'].sort_values().unique() "
   ]
  },
  {
   "cell_type": "markdown",
   "id": "7f730b8c",
   "metadata": {},
   "source": [
    "Вряд ли возраст клиента может составлять `0` лет. Заменим аномальные значения в столбце на медиану."
   ]
  },
  {
   "cell_type": "code",
   "execution_count": 14,
   "id": "f68e9bbc",
   "metadata": {},
   "outputs": [],
   "source": [
    "df['dob_years'] = df['dob_years'].replace(0, df['dob_years'].median())"
   ]
  },
  {
   "cell_type": "markdown",
   "id": "ae26b962",
   "metadata": {},
   "source": [
    "Проверим, что аномалии действительно удалены."
   ]
  },
  {
   "cell_type": "code",
   "execution_count": 15,
   "id": "b72e8b0f",
   "metadata": {
    "scrolled": true
   },
   "outputs": [
    {
     "data": {
      "text/plain": [
       "array([19., 20., 21., 22., 23., 24., 25., 26., 27., 28., 29., 30., 31.,\n",
       "       32., 33., 34., 35., 36., 37., 38., 39., 40., 41., 42., 43., 44.,\n",
       "       45., 46., 47., 48., 49., 50., 51., 52., 53., 54., 55., 56., 57.,\n",
       "       58., 59., 60., 61., 62., 63., 64., 65., 66., 67., 68., 69., 70.,\n",
       "       71., 72., 73., 74., 75.])"
      ]
     },
     "execution_count": 15,
     "metadata": {},
     "output_type": "execute_result"
    }
   ],
   "source": [
    "df['dob_years'].sort_values().unique() "
   ]
  },
  {
   "cell_type": "markdown",
   "id": "59356ee8",
   "metadata": {},
   "source": [
    "Выведем перечень уникальных значений столбца `education_id`."
   ]
  },
  {
   "cell_type": "code",
   "execution_count": 16,
   "id": "ef55cea0",
   "metadata": {},
   "outputs": [
    {
     "data": {
      "text/plain": [
       "1    15233\n",
       "0     5260\n",
       "2      744\n",
       "3      282\n",
       "4        6\n",
       "Name: education_id, dtype: int64"
      ]
     },
     "execution_count": 16,
     "metadata": {},
     "output_type": "execute_result"
    }
   ],
   "source": [
    "df['education_id'].value_counts()"
   ]
  },
  {
   "cell_type": "markdown",
   "id": "955f8df4",
   "metadata": {},
   "source": [
    "Аномалий не обнаружено."
   ]
  },
  {
   "cell_type": "markdown",
   "id": "bb17a9c1",
   "metadata": {},
   "source": [
    "Выведем перечень уникальных значений столбца `family_status`."
   ]
  },
  {
   "cell_type": "code",
   "execution_count": 17,
   "id": "541fcc60",
   "metadata": {},
   "outputs": [
    {
     "data": {
      "text/plain": [
       "женат / замужем          12380\n",
       "гражданский брак          4177\n",
       "Не женат / не замужем     2813\n",
       "в разводе                 1195\n",
       "вдовец / вдова             960\n",
       "Name: family_status, dtype: int64"
      ]
     },
     "execution_count": 17,
     "metadata": {},
     "output_type": "execute_result"
    }
   ],
   "source": [
    "df['family_status'].value_counts()"
   ]
  },
  {
   "cell_type": "markdown",
   "id": "11c4a2db",
   "metadata": {},
   "source": [
    "Аномалий не обнаружено."
   ]
  },
  {
   "cell_type": "markdown",
   "id": "70eaac26",
   "metadata": {},
   "source": [
    "Выведем перечень уникальных значений столбца `family_status_id`."
   ]
  },
  {
   "cell_type": "code",
   "execution_count": 18,
   "id": "75ba9e14",
   "metadata": {},
   "outputs": [
    {
     "data": {
      "text/plain": [
       "0    12380\n",
       "1     4177\n",
       "4     2813\n",
       "3     1195\n",
       "2      960\n",
       "Name: family_status_id, dtype: int64"
      ]
     },
     "execution_count": 18,
     "metadata": {},
     "output_type": "execute_result"
    }
   ],
   "source": [
    "df['family_status_id'].value_counts()"
   ]
  },
  {
   "cell_type": "markdown",
   "id": "93b861ba",
   "metadata": {},
   "source": [
    "Аномалий не обнаружено."
   ]
  },
  {
   "cell_type": "markdown",
   "id": "c6980cd5",
   "metadata": {},
   "source": [
    "Выведем перечень уникальных значений столбца `gender`."
   ]
  },
  {
   "cell_type": "code",
   "execution_count": 19,
   "id": "5be42406",
   "metadata": {},
   "outputs": [
    {
     "data": {
      "text/plain": [
       "F      14236\n",
       "M       7288\n",
       "XNA        1\n",
       "Name: gender, dtype: int64"
      ]
     },
     "execution_count": 19,
     "metadata": {},
     "output_type": "execute_result"
    }
   ],
   "source": [
    "df['gender'].value_counts()"
   ]
  },
  {
   "cell_type": "markdown",
   "id": "18edbcd3",
   "metadata": {},
   "source": [
    "Удалим запись с данными `XNA`."
   ]
  },
  {
   "cell_type": "code",
   "execution_count": 20,
   "id": "9f352b42",
   "metadata": {},
   "outputs": [],
   "source": [
    "df = df[df['gender'] != 'XNA']"
   ]
  },
  {
   "cell_type": "markdown",
   "id": "57fdeb03",
   "metadata": {},
   "source": [
    "Выведем перечень уникальных значений столбца `income_type`."
   ]
  },
  {
   "cell_type": "code",
   "execution_count": 21,
   "id": "392bd436",
   "metadata": {},
   "outputs": [
    {
     "data": {
      "text/plain": [
       "сотрудник          11119\n",
       "компаньон           5084\n",
       "пенсионер           3856\n",
       "госслужащий         1459\n",
       "предприниматель        2\n",
       "безработный            2\n",
       "студент                1\n",
       "в декрете              1\n",
       "Name: income_type, dtype: int64"
      ]
     },
     "execution_count": 21,
     "metadata": {},
     "output_type": "execute_result"
    }
   ],
   "source": [
    "df['income_type'].value_counts()"
   ]
  },
  {
   "cell_type": "markdown",
   "id": "4a74e055",
   "metadata": {},
   "source": [
    "Аномалий не обнаружено."
   ]
  },
  {
   "cell_type": "markdown",
   "id": "c81f9d9f",
   "metadata": {},
   "source": [
    "Выведем перечень уникальных значений столбца `debt`."
   ]
  },
  {
   "cell_type": "code",
   "execution_count": 22,
   "id": "957189db",
   "metadata": {},
   "outputs": [
    {
     "data": {
      "text/plain": [
       "0    19783\n",
       "1     1741\n",
       "Name: debt, dtype: int64"
      ]
     },
     "execution_count": 22,
     "metadata": {},
     "output_type": "execute_result"
    }
   ],
   "source": [
    "df['debt'].value_counts()"
   ]
  },
  {
   "cell_type": "markdown",
   "id": "ba2cd7be",
   "metadata": {},
   "source": [
    "Аномалий не обнаружено."
   ]
  },
  {
   "cell_type": "markdown",
   "id": "3017ba11",
   "metadata": {},
   "source": [
    "Выведем перечень уникальных значений столбца `purpose`."
   ]
  },
  {
   "cell_type": "code",
   "execution_count": 23,
   "id": "16aec80f",
   "metadata": {},
   "outputs": [
    {
     "data": {
      "text/plain": [
       "свадьба                                   797\n",
       "на проведение свадьбы                     777\n",
       "сыграть свадьбу                           774\n",
       "операции с недвижимостью                  676\n",
       "покупка коммерческой недвижимости         664\n",
       "покупка жилья для сдачи                   653\n",
       "операции с жильем                         653\n",
       "операции с коммерческой недвижимостью     651\n",
       "покупка жилья                             647\n",
       "жилье                                     647\n",
       "покупка жилья для семьи                   641\n",
       "строительство собственной недвижимости    635\n",
       "недвижимость                              634\n",
       "операции со своей недвижимостью           630\n",
       "строительство жилой недвижимости          626\n",
       "покупка недвижимости                      623\n",
       "строительство недвижимости                620\n",
       "покупка своего жилья                      620\n",
       "ремонт жилью                              612\n",
       "покупка жилой недвижимости                607\n",
       "на покупку своего автомобиля              505\n",
       "заняться высшим образованием              496\n",
       "автомобиль                                495\n",
       "сделка с подержанным автомобилем          489\n",
       "свой автомобиль                           480\n",
       "на покупку подержанного автомобиля        479\n",
       "автомобили                                478\n",
       "на покупку автомобиля                     472\n",
       "приобретение автомобиля                   462\n",
       "дополнительное образование                462\n",
       "сделка с автомобилем                      455\n",
       "высшее образование                        453\n",
       "получение дополнительного образования     447\n",
       "образование                               447\n",
       "получение образования                     443\n",
       "профильное образование                    436\n",
       "получение высшего образования             426\n",
       "заняться образованием                     412\n",
       "Name: purpose, dtype: int64"
      ]
     },
     "execution_count": 23,
     "metadata": {},
     "output_type": "execute_result"
    }
   ],
   "source": [
    "df['purpose'].value_counts()"
   ]
  },
  {
   "cell_type": "markdown",
   "id": "93001d37",
   "metadata": {},
   "source": [
    "Аномалий не обнаружено."
   ]
  },
  {
   "cell_type": "markdown",
   "id": "e8af4454",
   "metadata": {},
   "source": [
    "### Обработка дубликатов"
   ]
  },
  {
   "cell_type": "markdown",
   "id": "514a381b",
   "metadata": {},
   "source": [
    "Выведем перечень уникальных значений столбца `education`."
   ]
  },
  {
   "cell_type": "code",
   "execution_count": 24,
   "id": "1d36e4a6",
   "metadata": {
    "scrolled": false
   },
   "outputs": [
    {
     "data": {
      "text/plain": [
       "среднее                13750\n",
       "высшее                  4718\n",
       "СРЕДНЕЕ                  772\n",
       "Среднее                  711\n",
       "неоконченное высшее      667\n",
       "ВЫСШЕЕ                   274\n",
       "Высшее                   268\n",
       "начальное                250\n",
       "Неоконченное высшее       47\n",
       "НЕОКОНЧЕННОЕ ВЫСШЕЕ       29\n",
       "НАЧАЛЬНОЕ                 17\n",
       "Начальное                 15\n",
       "ученая степень             4\n",
       "Ученая степень             1\n",
       "УЧЕНАЯ СТЕПЕНЬ             1\n",
       "Name: education, dtype: int64"
      ]
     },
     "execution_count": 24,
     "metadata": {},
     "output_type": "execute_result"
    }
   ],
   "source": [
    "df['education'].value_counts()"
   ]
  },
  {
   "cell_type": "markdown",
   "id": "053fca42",
   "metadata": {},
   "source": [
    "Приведем все данные в столбце к нижнему регистру."
   ]
  },
  {
   "cell_type": "code",
   "execution_count": 25,
   "id": "534b9974",
   "metadata": {},
   "outputs": [],
   "source": [
    "df['education'] = df['education'].str.lower()"
   ]
  },
  {
   "cell_type": "markdown",
   "id": "237a4b02",
   "metadata": {},
   "source": [
    "Проверим, что теперь данные в столбце единообразны."
   ]
  },
  {
   "cell_type": "code",
   "execution_count": 26,
   "id": "2dbb2857",
   "metadata": {},
   "outputs": [
    {
     "data": {
      "text/plain": [
       "среднее                15233\n",
       "высшее                  5260\n",
       "неоконченное высшее      743\n",
       "начальное                282\n",
       "ученая степень             6\n",
       "Name: education, dtype: int64"
      ]
     },
     "execution_count": 26,
     "metadata": {},
     "output_type": "execute_result"
    }
   ],
   "source": [
    "df['education'].value_counts()"
   ]
  },
  {
   "cell_type": "markdown",
   "id": "e3236674",
   "metadata": {},
   "source": [
    "Посмотрим, есть ли явные дубликаты в таблице."
   ]
  },
  {
   "cell_type": "code",
   "execution_count": 27,
   "id": "963a110e",
   "metadata": {},
   "outputs": [
    {
     "data": {
      "text/plain": [
       "72"
      ]
     },
     "execution_count": 27,
     "metadata": {},
     "output_type": "execute_result"
    }
   ],
   "source": [
    "df.duplicated().sum()"
   ]
  },
  {
   "cell_type": "markdown",
   "id": "e9bd4af8",
   "metadata": {},
   "source": [
    "Удалим дубликаты."
   ]
  },
  {
   "cell_type": "code",
   "execution_count": 28,
   "id": "156adb0f",
   "metadata": {},
   "outputs": [],
   "source": [
    "df = df.drop_duplicates().reset_index(drop=True)"
   ]
  },
  {
   "cell_type": "markdown",
   "id": "c6e24987",
   "metadata": {},
   "source": [
    "Убедимся, что все дубликаты удалены."
   ]
  },
  {
   "cell_type": "code",
   "execution_count": 29,
   "id": "1f0f36d6",
   "metadata": {},
   "outputs": [
    {
     "data": {
      "text/plain": [
       "0"
      ]
     },
     "execution_count": 29,
     "metadata": {},
     "output_type": "execute_result"
    }
   ],
   "source": [
    "df.duplicated().sum()"
   ]
  },
  {
   "cell_type": "markdown",
   "id": "5297be72",
   "metadata": {},
   "source": [
    "### Изменение типов данных"
   ]
  },
  {
   "cell_type": "markdown",
   "id": "0fa6ee21",
   "metadata": {},
   "source": [
    "Еще раз посмотрим на общую информацию о данных."
   ]
  },
  {
   "cell_type": "code",
   "execution_count": 30,
   "id": "85db63b8",
   "metadata": {
    "scrolled": true
   },
   "outputs": [
    {
     "name": "stdout",
     "output_type": "stream",
     "text": [
      "<class 'pandas.core.frame.DataFrame'>\n",
      "RangeIndex: 21452 entries, 0 to 21451\n",
      "Data columns (total 12 columns):\n",
      " #   Column            Non-Null Count  Dtype  \n",
      "---  ------            --------------  -----  \n",
      " 0   children          21452 non-null  int64  \n",
      " 1   days_employed     21452 non-null  float64\n",
      " 2   dob_years         21452 non-null  float64\n",
      " 3   education         21452 non-null  object \n",
      " 4   education_id      21452 non-null  int64  \n",
      " 5   family_status     21452 non-null  object \n",
      " 6   family_status_id  21452 non-null  int64  \n",
      " 7   gender            21452 non-null  object \n",
      " 8   income_type       21452 non-null  object \n",
      " 9   debt              21452 non-null  int64  \n",
      " 10  total_income      21452 non-null  float64\n",
      " 11  purpose           21452 non-null  object \n",
      "dtypes: float64(3), int64(4), object(5)\n",
      "memory usage: 2.0+ MB\n"
     ]
    }
   ],
   "source": [
    "df.info()"
   ]
  },
  {
   "cell_type": "markdown",
   "id": "656060bb",
   "metadata": {},
   "source": [
    "Заменим тип данных `float` на `int`."
   ]
  },
  {
   "cell_type": "code",
   "execution_count": 31,
   "id": "48ce0bd9",
   "metadata": {},
   "outputs": [],
   "source": [
    "df[['days_employed', 'dob_years', 'total_income']] = \\\n",
    "    df[['days_employed', 'dob_years', 'total_income']].astype(int)"
   ]
  },
  {
   "cell_type": "markdown",
   "id": "c4b1ede6",
   "metadata": {},
   "source": [
    "### Категоризация данных"
   ]
  },
  {
   "cell_type": "markdown",
   "id": "c3db71ac",
   "metadata": {},
   "source": [
    "Создадим столбец `total_income_category` со следующими категориями:\n",
    "- 0–30000 — `'E'`;\n",
    "- 30001–50000 — `'D'`;\n",
    "- 50001–200000 — `'C'`;\n",
    "- 200001–1000000 — `'B'`;\n",
    "- 1000001 и выше — `'A'`.\n",
    "\n",
    "Для этого напишем функцию:"
   ]
  },
  {
   "cell_type": "code",
   "execution_count": 32,
   "id": "e1ad2222",
   "metadata": {},
   "outputs": [],
   "source": [
    "def categorize_income(income):\n",
    "    try:\n",
    "        if 0 <= income <= 30000:\n",
    "            return 'E'\n",
    "        elif 30001 <= income <= 50000:\n",
    "            return 'D'\n",
    "        elif 50001 <= income <= 200000:\n",
    "            return 'C'\n",
    "        elif 200001 <= income <= 1000000:\n",
    "            return 'B'\n",
    "        elif income >= 1000001:\n",
    "            return 'A'\n",
    "    except:\n",
    "        pass"
   ]
  },
  {
   "cell_type": "code",
   "execution_count": 33,
   "id": "b1e2b6d0",
   "metadata": {},
   "outputs": [],
   "source": [
    "df['total_income_category'] = df['total_income'].apply(categorize_income)"
   ]
  },
  {
   "cell_type": "markdown",
   "id": "66752bdc",
   "metadata": {},
   "source": [
    "Напишем функцию, которая на основании данных из столбца `purpose` сформирует новый столбец `purpose_category`, в который войдут следующие категории:\n",
    "- `'операции с автомобилем'`,\n",
    "- `'операции с недвижимостью'`,\n",
    "- `'проведение свадьбы'`,\n",
    "- `'получение образования'`."
   ]
  },
  {
   "cell_type": "code",
   "execution_count": 34,
   "id": "30f4cd3e",
   "metadata": {},
   "outputs": [],
   "source": [
    "def categorize_purpose(row):\n",
    "    try:\n",
    "        if 'авто' in row:\n",
    "            return 'операции с автомобилем'\n",
    "        elif 'жил' in row or 'недвиж' in row:\n",
    "            return 'операции с недвижимостью'\n",
    "        elif 'свад' in row:\n",
    "            return 'проведение свадьбы'\n",
    "        elif 'образ' in row:\n",
    "            return 'получение образования'\n",
    "    except:\n",
    "        return 'нет категории'"
   ]
  },
  {
   "cell_type": "code",
   "execution_count": 35,
   "id": "6499ae4e",
   "metadata": {},
   "outputs": [],
   "source": [
    "df['purpose_category'] = df['purpose'].apply(categorize_purpose)"
   ]
  },
  {
   "cell_type": "markdown",
   "id": "d4232099",
   "metadata": {},
   "source": [
    "Проверим, корректно ли добавились столбцы."
   ]
  },
  {
   "cell_type": "code",
   "execution_count": 36,
   "id": "76623e38",
   "metadata": {},
   "outputs": [
    {
     "data": {
      "text/html": [
       "<div>\n",
       "<style scoped>\n",
       "    .dataframe tbody tr th:only-of-type {\n",
       "        vertical-align: middle;\n",
       "    }\n",
       "\n",
       "    .dataframe tbody tr th {\n",
       "        vertical-align: top;\n",
       "    }\n",
       "\n",
       "    .dataframe thead th {\n",
       "        text-align: right;\n",
       "    }\n",
       "</style>\n",
       "<table border=\"1\" class=\"dataframe\">\n",
       "  <thead>\n",
       "    <tr style=\"text-align: right;\">\n",
       "      <th></th>\n",
       "      <th>children</th>\n",
       "      <th>days_employed</th>\n",
       "      <th>dob_years</th>\n",
       "      <th>education</th>\n",
       "      <th>education_id</th>\n",
       "      <th>family_status</th>\n",
       "      <th>family_status_id</th>\n",
       "      <th>gender</th>\n",
       "      <th>income_type</th>\n",
       "      <th>debt</th>\n",
       "      <th>total_income</th>\n",
       "      <th>purpose</th>\n",
       "      <th>total_income_category</th>\n",
       "      <th>purpose_category</th>\n",
       "    </tr>\n",
       "  </thead>\n",
       "  <tbody>\n",
       "    <tr>\n",
       "      <th>0</th>\n",
       "      <td>1</td>\n",
       "      <td>8437</td>\n",
       "      <td>42</td>\n",
       "      <td>высшее</td>\n",
       "      <td>0</td>\n",
       "      <td>женат / замужем</td>\n",
       "      <td>0</td>\n",
       "      <td>F</td>\n",
       "      <td>сотрудник</td>\n",
       "      <td>0</td>\n",
       "      <td>253875</td>\n",
       "      <td>покупка жилья</td>\n",
       "      <td>B</td>\n",
       "      <td>операции с недвижимостью</td>\n",
       "    </tr>\n",
       "    <tr>\n",
       "      <th>1</th>\n",
       "      <td>1</td>\n",
       "      <td>4024</td>\n",
       "      <td>36</td>\n",
       "      <td>среднее</td>\n",
       "      <td>1</td>\n",
       "      <td>женат / замужем</td>\n",
       "      <td>0</td>\n",
       "      <td>F</td>\n",
       "      <td>сотрудник</td>\n",
       "      <td>0</td>\n",
       "      <td>112080</td>\n",
       "      <td>приобретение автомобиля</td>\n",
       "      <td>C</td>\n",
       "      <td>операции с автомобилем</td>\n",
       "    </tr>\n",
       "    <tr>\n",
       "      <th>2</th>\n",
       "      <td>0</td>\n",
       "      <td>5623</td>\n",
       "      <td>33</td>\n",
       "      <td>среднее</td>\n",
       "      <td>1</td>\n",
       "      <td>женат / замужем</td>\n",
       "      <td>0</td>\n",
       "      <td>M</td>\n",
       "      <td>сотрудник</td>\n",
       "      <td>0</td>\n",
       "      <td>145885</td>\n",
       "      <td>покупка жилья</td>\n",
       "      <td>C</td>\n",
       "      <td>операции с недвижимостью</td>\n",
       "    </tr>\n",
       "    <tr>\n",
       "      <th>3</th>\n",
       "      <td>3</td>\n",
       "      <td>4124</td>\n",
       "      <td>32</td>\n",
       "      <td>среднее</td>\n",
       "      <td>1</td>\n",
       "      <td>женат / замужем</td>\n",
       "      <td>0</td>\n",
       "      <td>M</td>\n",
       "      <td>сотрудник</td>\n",
       "      <td>0</td>\n",
       "      <td>267628</td>\n",
       "      <td>дополнительное образование</td>\n",
       "      <td>B</td>\n",
       "      <td>получение образования</td>\n",
       "    </tr>\n",
       "    <tr>\n",
       "      <th>4</th>\n",
       "      <td>0</td>\n",
       "      <td>340266</td>\n",
       "      <td>53</td>\n",
       "      <td>среднее</td>\n",
       "      <td>1</td>\n",
       "      <td>гражданский брак</td>\n",
       "      <td>1</td>\n",
       "      <td>F</td>\n",
       "      <td>пенсионер</td>\n",
       "      <td>0</td>\n",
       "      <td>158616</td>\n",
       "      <td>сыграть свадьбу</td>\n",
       "      <td>C</td>\n",
       "      <td>проведение свадьбы</td>\n",
       "    </tr>\n",
       "    <tr>\n",
       "      <th>5</th>\n",
       "      <td>0</td>\n",
       "      <td>926</td>\n",
       "      <td>27</td>\n",
       "      <td>высшее</td>\n",
       "      <td>0</td>\n",
       "      <td>гражданский брак</td>\n",
       "      <td>1</td>\n",
       "      <td>M</td>\n",
       "      <td>компаньон</td>\n",
       "      <td>0</td>\n",
       "      <td>255763</td>\n",
       "      <td>покупка жилья</td>\n",
       "      <td>B</td>\n",
       "      <td>операции с недвижимостью</td>\n",
       "    </tr>\n",
       "    <tr>\n",
       "      <th>6</th>\n",
       "      <td>0</td>\n",
       "      <td>2879</td>\n",
       "      <td>43</td>\n",
       "      <td>высшее</td>\n",
       "      <td>0</td>\n",
       "      <td>женат / замужем</td>\n",
       "      <td>0</td>\n",
       "      <td>F</td>\n",
       "      <td>компаньон</td>\n",
       "      <td>0</td>\n",
       "      <td>240525</td>\n",
       "      <td>операции с жильем</td>\n",
       "      <td>B</td>\n",
       "      <td>операции с недвижимостью</td>\n",
       "    </tr>\n",
       "    <tr>\n",
       "      <th>7</th>\n",
       "      <td>0</td>\n",
       "      <td>152</td>\n",
       "      <td>50</td>\n",
       "      <td>среднее</td>\n",
       "      <td>1</td>\n",
       "      <td>женат / замужем</td>\n",
       "      <td>0</td>\n",
       "      <td>M</td>\n",
       "      <td>сотрудник</td>\n",
       "      <td>0</td>\n",
       "      <td>135823</td>\n",
       "      <td>образование</td>\n",
       "      <td>C</td>\n",
       "      <td>получение образования</td>\n",
       "    </tr>\n",
       "    <tr>\n",
       "      <th>8</th>\n",
       "      <td>2</td>\n",
       "      <td>6929</td>\n",
       "      <td>35</td>\n",
       "      <td>высшее</td>\n",
       "      <td>0</td>\n",
       "      <td>гражданский брак</td>\n",
       "      <td>1</td>\n",
       "      <td>F</td>\n",
       "      <td>сотрудник</td>\n",
       "      <td>0</td>\n",
       "      <td>95856</td>\n",
       "      <td>на проведение свадьбы</td>\n",
       "      <td>C</td>\n",
       "      <td>проведение свадьбы</td>\n",
       "    </tr>\n",
       "    <tr>\n",
       "      <th>9</th>\n",
       "      <td>0</td>\n",
       "      <td>2188</td>\n",
       "      <td>41</td>\n",
       "      <td>среднее</td>\n",
       "      <td>1</td>\n",
       "      <td>женат / замужем</td>\n",
       "      <td>0</td>\n",
       "      <td>M</td>\n",
       "      <td>сотрудник</td>\n",
       "      <td>0</td>\n",
       "      <td>144425</td>\n",
       "      <td>покупка жилья для семьи</td>\n",
       "      <td>C</td>\n",
       "      <td>операции с недвижимостью</td>\n",
       "    </tr>\n",
       "  </tbody>\n",
       "</table>\n",
       "</div>"
      ],
      "text/plain": [
       "   children  days_employed  dob_years education  education_id  \\\n",
       "0         1           8437         42    высшее             0   \n",
       "1         1           4024         36   среднее             1   \n",
       "2         0           5623         33   среднее             1   \n",
       "3         3           4124         32   среднее             1   \n",
       "4         0         340266         53   среднее             1   \n",
       "5         0            926         27    высшее             0   \n",
       "6         0           2879         43    высшее             0   \n",
       "7         0            152         50   среднее             1   \n",
       "8         2           6929         35    высшее             0   \n",
       "9         0           2188         41   среднее             1   \n",
       "\n",
       "      family_status  family_status_id gender income_type  debt  total_income  \\\n",
       "0   женат / замужем                 0      F   сотрудник     0        253875   \n",
       "1   женат / замужем                 0      F   сотрудник     0        112080   \n",
       "2   женат / замужем                 0      M   сотрудник     0        145885   \n",
       "3   женат / замужем                 0      M   сотрудник     0        267628   \n",
       "4  гражданский брак                 1      F   пенсионер     0        158616   \n",
       "5  гражданский брак                 1      M   компаньон     0        255763   \n",
       "6   женат / замужем                 0      F   компаньон     0        240525   \n",
       "7   женат / замужем                 0      M   сотрудник     0        135823   \n",
       "8  гражданский брак                 1      F   сотрудник     0         95856   \n",
       "9   женат / замужем                 0      M   сотрудник     0        144425   \n",
       "\n",
       "                      purpose total_income_category          purpose_category  \n",
       "0               покупка жилья                     B  операции с недвижимостью  \n",
       "1     приобретение автомобиля                     C    операции с автомобилем  \n",
       "2               покупка жилья                     C  операции с недвижимостью  \n",
       "3  дополнительное образование                     B     получение образования  \n",
       "4             сыграть свадьбу                     C        проведение свадьбы  \n",
       "5               покупка жилья                     B  операции с недвижимостью  \n",
       "6           операции с жильем                     B  операции с недвижимостью  \n",
       "7                 образование                     C     получение образования  \n",
       "8       на проведение свадьбы                     C        проведение свадьбы  \n",
       "9     покупка жилья для семьи                     C  операции с недвижимостью  "
      ]
     },
     "execution_count": 36,
     "metadata": {},
     "output_type": "execute_result"
    }
   ],
   "source": [
    "df.head(10)"
   ]
  },
  {
   "cell_type": "markdown",
   "id": "b79f9681",
   "metadata": {},
   "source": [
    "### Выводы\n",
    "\n",
    "На этапе предобработки данных была проделана следующая работа:\n",
    "- заполнены пропуски в столбцах `days_employed` и `total_income` на медианные значения по каждому типу из столбца `income_type`,\n",
    "- заменены аномальные значения в столбцах `days_employed`, `children`, `dob_years`, \n",
    "- удалено аномальное значение в столбце `gender`,\n",
    "- удалены явные дубликаты в таблице,\n",
    "- данные в столбце `education` приведены к нижнему регистру, что позволило избавиться от неявных дубликатов,\n",
    "- в столбцах `days_employed`, `dob_years`, `total_income` тип данных `float` заменен на `int`,\n",
    "- в таблицу добавлены следующие столбцы:\n",
    "  - `total_income_category` с категориям дохода,\n",
    "  - `purpose_category` с категориями цели кредита."
   ]
  },
  {
   "cell_type": "markdown",
   "id": "a9cac868",
   "metadata": {},
   "source": [
    "## Этап 3. Проверка гипотез"
   ]
  },
  {
   "cell_type": "markdown",
   "id": "a53a950d",
   "metadata": {},
   "source": [
    "### Существует зависимость между количеством детей и возвратом кредита в срок."
   ]
  },
  {
   "cell_type": "code",
   "execution_count": 37,
   "id": "e6954f97",
   "metadata": {},
   "outputs": [
    {
     "name": "stdout",
     "output_type": "stream",
     "text": [
      "          No debt    Debt    Total  Not returned on time, %\n",
      "children                                                   \n",
      "4            37.0     4.0     41.0                 0.097561\n",
      "2          1926.0   202.0   2128.0                 0.094925\n",
      "1          4410.0   445.0   4855.0                 0.091658\n",
      "3           303.0    27.0    330.0                 0.081818\n",
      "0         13026.0  1063.0  14089.0                 0.075449\n",
      "5             9.0     NaN      NaN                      NaN\n"
     ]
    }
   ],
   "source": [
    "df_pivot = df.pivot_table(index=['children'], columns='debt', values='family_status_id', aggfunc='count') \n",
    "df_pivot.columns = ['No debt', 'Debt']\n",
    "df_pivot['Total'] = df_pivot['No debt'] + df_pivot['Debt'] \n",
    "df_pivot['Not returned on time, %'] = df_pivot['Debt'] / df_pivot['Total']\n",
    "print(df_pivot.sort_values(by='Not returned on time, %', ascending = False)) "
   ]
  },
  {
   "cell_type": "markdown",
   "id": "99c076df",
   "metadata": {},
   "source": [
    "**Вывод:** Исходя из полученных данных, мы видим, что наименьшая доля просрочек по кредиту у семей, в которых дети отсутствуют. Наибольшая доля просрочек по кредиту - в семьях с 4 детьми. В семьях с 5 детьми задолженности отсутствуют, но в предоставленных данных всего 9 подобных семей, делать выводы из такого малого количества данных не представляется возможным.\n",
    "\n",
    "В целом, появление ребенка увеличивает возможность задолженности по кредиту "
   ]
  },
  {
   "cell_type": "markdown",
   "id": "ea9cbf3f",
   "metadata": {},
   "source": [
    "### Существует зависимость между семейным положением и возвратом кредита в срок."
   ]
  },
  {
   "cell_type": "code",
   "execution_count": 38,
   "id": "de18edc5",
   "metadata": {},
   "outputs": [
    {
     "name": "stdout",
     "output_type": "stream",
     "text": [
      "                       No debt  Debt  Total  Not returned on time, %\n",
      "family_status                                                       \n",
      "Не женат / не замужем     2536   274   2810                 0.097509\n",
      "гражданский брак          3761   388   4149                 0.093517\n",
      "женат / замужем          11408   931  12339                 0.075452\n",
      "в разводе                 1110    85   1195                 0.071130\n",
      "вдовец / вдова             896    63    959                 0.065693\n"
     ]
    }
   ],
   "source": [
    "df_pivot = df.pivot_table(index=['family_status'], columns='debt', values='family_status_id', aggfunc='count') \n",
    "df_pivot.columns = ['No debt', 'Debt']\n",
    "df_pivot['Total'] = df_pivot['No debt'] + df_pivot['Debt'] \n",
    "df_pivot['Not returned on time, %'] = df_pivot['Debt'] / df_pivot['Total'] \n",
    "print(df_pivot.sort_values(by='Not returned on time, %', ascending = False)) "
   ]
  },
  {
   "cell_type": "markdown",
   "id": "e5db1f6c",
   "metadata": {},
   "source": [
    "**Вывод:** Наименьшая доля просрочек по кредиту у категории 'вдовец / вдова'. Наибольшая доля просрочек по кредиту - у категории 'Не женат / не замужем', чуть ниже - у тех, кто находится в гражданском браке.\n",
    "\n",
    "Кредитному отделу следует с осторожностью относиться к клиентам, которые не состоят или не состояли в браке. Согласно данным такие клиенты менее ответственные. Можно сделать вывод, что узаконенные отношения ведут к более ответственному поведению и выполнению своих обязательств."
   ]
  },
  {
   "cell_type": "markdown",
   "id": "7ea0bf74",
   "metadata": {},
   "source": [
    "### Существует зависимость между уровнем дохода и возвратом кредита в срок."
   ]
  },
  {
   "cell_type": "code",
   "execution_count": 39,
   "id": "4aed4590",
   "metadata": {},
   "outputs": [
    {
     "name": "stdout",
     "output_type": "stream",
     "text": [
      "                       No debt  Debt  Total  Not returned on time, %\n",
      "total_income_category                                               \n",
      "E                           20     2     22                 0.090909\n",
      "C                        14654  1360  16014                 0.084926\n",
      "A                           23     2     25                 0.080000\n",
      "B                         4685   356   5041                 0.070621\n",
      "D                          329    21    350                 0.060000\n"
     ]
    }
   ],
   "source": [
    "    \"\"\"\n",
    "    0–30000 — 'E';\n",
    "    30001–50000 — 'D';\n",
    "    50001–200000 — 'C';\n",
    "    200001–1000000 — 'B';\n",
    "    1000001 и выше — 'A'.\n",
    "    \"\"\"\n",
    "\n",
    "df_pivot = df.pivot_table(index=['total_income_category'], columns='debt', values='family_status_id', aggfunc='count') \n",
    "df_pivot.columns = ['No debt', 'Debt']\n",
    "df_pivot['Total'] = df_pivot['No debt'] + df_pivot['Debt'] \n",
    "df_pivot['Not returned on time, %'] = df_pivot['Debt'] / df_pivot['Total'] \n",
    "print(df_pivot.sort_values(by='Not returned on time, %', ascending = False)) "
   ]
  },
  {
   "cell_type": "markdown",
   "id": "d03f8ad7",
   "metadata": {},
   "source": [
    "**Вывод:** Наибольшая доля просрочек по кредиту у людей с уровнем дохода E, то есть наименьшим уровнем (до 30000 рублей). Наименьшая доля просрочек по кредиту у людей с уровнем дохода от 30001 до 50000 рублей. \n",
    "\n",
    "Выборка по заемщикам, как с наименьшим доходом, так и с наибольшим, крайне недостаточна для формирования однозначных выводов. Можно думать, что люди, с уровнем дохода E не могут корректно распоряжаться деньгами и «влезают» в кредиты, но тогда не совсем понятно, почему у людей с уровнем дохода А также достаточно высокий процент задолженности.\n",
    "\n",
    "Если рассматривать для анализа только группы В, С и D, то по полученным данным не наблюдаем зависимости \"те, кто получает больший доход, лучше возвращает кредит». В целом, материальный достаток - не единственная переменная, которая влияет на качество кредитной истории."
   ]
  },
  {
   "cell_type": "markdown",
   "id": "0a39338b",
   "metadata": {},
   "source": [
    "### Разные цели кредита влияют на его возврат в срок."
   ]
  },
  {
   "cell_type": "code",
   "execution_count": 40,
   "id": "bddb31b9",
   "metadata": {},
   "outputs": [
    {
     "name": "stdout",
     "output_type": "stream",
     "text": [
      "                          No debt  Debt  Total  Not returned on time, %\n",
      "purpose_category                                                       \n",
      "операции с автомобилем       3903   403   4306                 0.093590\n",
      "получение образования        3643   370   4013                 0.092200\n",
      "проведение свадьбы           2137   186   2323                 0.080069\n",
      "операции с недвижимостью    10028   782  10810                 0.072340\n"
     ]
    }
   ],
   "source": [
    "df_pivot = df.pivot_table(index=['purpose_category'], columns='debt', values='family_status_id', aggfunc='count') \n",
    "df_pivot.columns = ['No debt', 'Debt']\n",
    "df_pivot['Total'] = df_pivot['No debt'] + df_pivot['Debt'] \n",
    "df_pivot['Not returned on time, %'] = df_pivot['Debt'] / df_pivot['Total'] \n",
    "print(df_pivot.sort_values(by='Not returned on time, %', ascending = False)) "
   ]
  },
  {
   "cell_type": "markdown",
   "id": "e49de030",
   "metadata": {},
   "source": [
    "**Вывод:** Наибольшая доля просрочек у людей, которые берут кредит для операций с автомобилем и для получения образования. Часто люди покупают в кредит автомобили гораздо дороже, чем те, что соответствуют их доходам.\n",
    "\n",
    "Наименьшая доля просрочек у людей, которые берут кредит для операций с недвижимостью, люди стараются не рисковать своим жильем."
   ]
  },
  {
   "cell_type": "markdown",
   "id": "5d171611",
   "metadata": {},
   "source": [
    "## Итоги исследования"
   ]
  },
  {
   "cell_type": "markdown",
   "id": "7c50ac22",
   "metadata": {},
   "source": [
    "Было проведено исследование для выявления влияния различных факторов на факт погашения кредита в срок. Входные данные от банка — статистика о платёжеспособности клиентов. Результаты исследования будут учтены при построении модели кредитного скоринга — специальной системы, которая оценивает способность потенциального заёмщика вернуть кредит банку.\n",
    "\n",
    "Перед проведением исследования были поставлены гипотезы:\n",
    "- Гипотеза 1. Существует зависимость между количеством детей и возвратом кредита в срок.\n",
    "- Гипотеза 2. Существует зависимость между семейным положением и возвратом кредита в срок.\n",
    "- Гипотеза 3. Существует зависимость между уровнем дохода и возвратом кредита в срок.\n",
    "- Гипотеза 4. Разные цели кредита влияют на его возврат в срок.\n",
    "\n",
    "В результате проведенного исследования удалось выявить следующие зависимости:\n",
    "\n",
    "**Гипотеза 1 подтверждена частично**\n",
    "- 7,5% - доля просроченных кредитов среди заемщиков без детей \n",
    "- 9,2% - доля просроченных кредитов среди заемщиков с 1 ребенком\n",
    "- 9,8% - доля просроченных кредитов среди заемщиков с 4 детьми\n",
    "\n",
    "Высокой разницы между группами заемщиков нет, тем не менее, можно сделать вывод о том, что заемщики без детей являются более надежными и ответственными, чем заемщики с детьми.\n",
    "\n",
    "Рекомендации: для более точного анализа необходима выборка с бОльшим объемом данных.\n",
    " \n",
    "\n",
    "**Гипотеза 2 подтверждена**\n",
    "- Заемщики, не состоящие никогда в браке (9,8%) и проживающие в гражданском браке (9,3%) являются ненадежными, к таким заемщикам следует относиться с осторожностью.\n",
    "- Наиболее ответственными заемщиками являются вдовцы/вдовы (6,6%), состоящие в разводе (7%), а также состоящие в браке (7,5%)\n",
    "*в скобках приведена доля просроченных кредитов.\n",
    "\n",
    "\n",
    "**Гипотеза 3 подтверждена частично**\n",
    "- Наиболее ответственными заемщиками являются люди с уровнем дохода от 30001 до 50000 рублей (6%). \n",
    "- Заемщики с уровнем дохода до 30000 рублей (9%) являются наименее надежными.\n",
    "*в скобках приведена доля просроченных кредитов.\n",
    "\n",
    "Как группа людей с наименьшим доходом, так и группа с наибольшим доходом содержат слишком мало записей. Вероятно, это связано с большим количеством пропущенным значений по столбцу с ежемесячным доходом, что искажает полученные результаты.\n",
    "\n",
    "Рекомендации: для более точного анализа необходима выборка с бОльшим объемом данных. Также стоит учитывать сумму кредита, а также регион проживания заемщика, ведь доходы довольно сильно различаются по регионам.\n",
    "\n",
    "\n",
    "**Гипотеза 4 подтверждена**\n",
    "- 9,3% - доля просроченных кредитов среди заемщиков, целью которых являются операции с автомобилем.\n",
    "- 9,2% - доля просроченных кредитов среди заемщиков, целью которых является получение образования.\n",
    "- 7,9% - доля просроченных кредитов среди заемщиков, целью которых является проведение свадьбы.\n",
    "- 7,2% - доля просроченных кредитов среди заемщиков, целью которых являются операции с недвижимостью.\n",
    "\n",
    "Заемщики, решающие приобрести недвижимость, являются более ответственными, так как в случае просрочек и невыплат по кредиту есть риск остаться без жилья.\n",
    "\n",
    "\n",
    "**Общие рекомендации:** \n",
    "1. Специалистам банка можно использовать для работы подтвержденные гипотезы:\n",
    "    - Гипотеза 2. Существует зависимость между семейным положением и возвратом кредита в срок;\n",
    "    - Гипотеза 4. Разные цели кредита влияют на его возврат в срок.\n",
    "2. Для более точного анализа необходима выборка с бОльшим объемом данных, а также добавление других факторов, которые могут влиять на факт погашения кредита в срок."
   ]
  }
 ],
 "metadata": {
  "kernelspec": {
   "display_name": "Python 3 (ipykernel)",
   "language": "python",
   "name": "python3"
  },
  "language_info": {
   "codemirror_mode": {
    "name": "ipython",
    "version": 3
   },
   "file_extension": ".py",
   "mimetype": "text/x-python",
   "name": "python",
   "nbconvert_exporter": "python",
   "pygments_lexer": "ipython3",
   "version": "3.9.16"
  }
 },
 "nbformat": 4,
 "nbformat_minor": 5
}
